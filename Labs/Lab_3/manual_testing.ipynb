{
 "cells": [
  {
   "cell_type": "markdown",
   "metadata": {},
   "source": [
    "# Manual testing\n",
    "\n",
    "The purpose of this notebook is to test the geometry classes in the most rudimentary ways."
   ]
  },
  {
   "cell_type": "markdown",
   "metadata": {},
   "source": [
    "## Testing two-dimensional shapes\n",
    "Testing `Shape2D` class"
   ]
  },
  {
   "cell_type": "code",
   "execution_count": null,
   "metadata": {},
   "outputs": [],
   "source": [
    "from shape2d import Shape2D\n",
    "\n",
    "shape_1 = Shape2D()\n",
    "print(f\"{shape_1 = }\")\n",
    "print(f\"{shape_1.x = }\")\n",
    "print(f\"{shape_1.y = }\")\n",
    "\n",
    "print()\n",
    "shape_2 = Shape2D(y=3, x=5)\n",
    "print(f\"{shape_2 = }\")\n",
    "print(f\"{shape_2.x = }\")\n",
    "print(f\"{shape_2.y = }\")\n",
    "\n",
    "print()\n",
    "shape_1.translate(-3, -4)\n",
    "print(f\"{shape_1.x = }\")\n",
    "print(f\"{shape_1.y = }\")"
   ]
  },
  {
   "cell_type": "markdown",
   "metadata": {},
   "source": [
    "Testing the `Circle` and `Rectangle` classes"
   ]
  },
  {
   "cell_type": "code",
   "execution_count": null,
   "metadata": {},
   "outputs": [],
   "source": [
    "from circle import Circle\n",
    "from rectangle import Rectangle\n",
    "\n",
    "\n",
    "circle_1 = Circle(x=0, y=0, radius=1)\n",
    "print(f\"{circle_1.is_unit_circle() = }\")\n",
    "\n",
    "circle_2 = Circle(x=1, y=1, radius=1)\n",
    "print(f\"{circle_2.is_unit_circle() = }\")\n",
    "\n",
    "print()\n",
    "print(f\"{circle_1.is_inside(1, 0) = }\")\n",
    "print(f\"{circle_1.is_inside(0.5, 0.5) = }\")\n",
    "circle_1.translate(5, 5)\n",
    "print(f\"{circle_1.is_inside(0.5, 0.5) = }\")\n",
    "\n",
    "print()\n",
    "rectangle_1 = Rectangle(x=0, y=0, width=1, height=1)\n",
    "print(f\"{rectangle_1.width = }\")\n",
    "print(f\"{rectangle_1.height = }\")\n",
    "print(f\"{rectangle_1.is_square() = }\")\n",
    "print(f\"{rectangle_1.is_inside(0.4, 0.4) = }\")"
   ]
  },
  {
   "cell_type": "markdown",
   "metadata": {},
   "source": [
    "Testing overloading of comparison operators for `Circle` and `Rectangle`"
   ]
  },
  {
   "cell_type": "code",
   "execution_count": null,
   "metadata": {},
   "outputs": [],
   "source": [
    "circle_3 = Circle(x=100, y=-50, radius=2.5)\n",
    "\n",
    "print(f\"{circle_1 < circle_2 = }\")\n",
    "print(f\"{circle_1 <= circle_2 = }\")\n",
    "print(f\"{circle_1 == circle_2 = }\")\n",
    "print(f\"{circle_1 >= circle_2 = }\")\n",
    "print(f\"{circle_1 > circle_2 = }\")\n",
    "\n",
    "print()\n",
    "print(f\"{circle_1 < circle_3 = }\")\n",
    "print(f\"{circle_1 <= circle_3 = }\")\n",
    "print(f\"{circle_1 == circle_3 = }\")\n",
    "print(f\"{circle_1 >= circle_3 = }\")\n",
    "print(f\"{circle_1 > circle_3 = }\")\n",
    "\n",
    "print()\n",
    "print(f\"{circle_1 = } , {circle_2 = } , {circle_3 = }\")\n",
    "print(f\"{circle_1 == circle_2 = }\")\n",
    "print(f\"{circle_1 == circle_3 = }\")\n",
    "print(f\"{circle_2 == circle_3 = }\")\n",
    "\n",
    "print()\n",
    "print(f\"{circle_1 != circle_2 = }\")\n",
    "print(f\"{circle_1 != circle_3 = }\")\n",
    "print(f\"{circle_2 != circle_3 = }\")"
   ]
  },
  {
   "cell_type": "markdown",
   "metadata": {},
   "source": [
    "Testing overloading of `+` and `-` operators for `Circle` and `Rectangle`"
   ]
  },
  {
   "cell_type": "code",
   "execution_count": null,
   "metadata": {},
   "outputs": [],
   "source": [
    "print(f\"{circle_1 + circle_2 = }\")\n",
    "print(f\"{circle_1 + rectangle_1 = }\")\n",
    "print(f\"{circle_1 + 100 = }\")\n",
    "print(f\"{100 + circle_1 = }\")\n",
    "print(f\"{sum([circle_1, circle_2, rectangle_1]) = }\")\n",
    "\n",
    "\n",
    "print()\n",
    "print(f\"{circle_1 - circle_2 = }\")\n",
    "print(f\"{circle_1 - circle_3 = }\")\n",
    "print(f\"{circle_1 - 100 = }\")\n",
    "print(f\"{100 - circle_1 = }\")\n"
   ]
  },
  {
   "cell_type": "markdown",
   "metadata": {},
   "source": [
    "## Testing three-dimensional shapes\n",
    "Testing `Shape3D` class"
   ]
  },
  {
   "cell_type": "code",
   "execution_count": null,
   "metadata": {},
   "outputs": [],
   "source": [
    "from shape3d import Shape3D\n",
    "\n",
    "shape_1 = Shape3D()\n",
    "print(f\"{shape_1 = }\")\n",
    "print(f\"{shape_1.x = }\")\n",
    "print(f\"{shape_1.y = }\")\n",
    "print(f\"{shape_1.z = }\")\n",
    "\n",
    "print()\n",
    "shape_2 = Shape3D(y=2, x=5, z=9)\n",
    "print(f\"{shape_2 = }\")\n",
    "print(f\"{shape_2.x = }\")\n",
    "print(f\"{shape_2.y = }\")\n",
    "print(f\"{shape_2.z = }\")\n",
    "\n",
    "print()\n",
    "shape_1.translate(-3, -4, 9)\n",
    "print(f\"{shape_1.x = }\")\n",
    "print(f\"{shape_1.y = }\")\n",
    "print(f\"{shape_1.z = }\")"
   ]
  },
  {
   "cell_type": "markdown",
   "metadata": {},
   "source": [
    "Testing `Sphere` and `Cube` classes"
   ]
  },
  {
   "cell_type": "code",
   "execution_count": 8,
   "metadata": {},
   "outputs": [
    {
     "name": "stdout",
     "output_type": "stream",
     "text": [
      "sphere with a radius 1 and its center at (0,0,0)\n",
      "sphere_1 = Sphere(x=0, y=0, z=0, radius=1)\n",
      "sphere_1.area = 12.566370614359172\n",
      "sphere_1.volume = 4.1887902047863905\n",
      "sphere_1.is_inside(0.5, 0.5, 0.5) = True\n",
      "sphere_1.is_inside(1, 0.1, 0.1) = False\n",
      "\n",
      "cube with a side length of 2 and its center at (0,0,0)\n",
      "cube_1 = Cube(x=0, y=0, z=0, side_length=2)\n",
      "cube_1.area = 24\n",
      "cube_1.volume = 8\n",
      "cube_1.is_inside(0.99, 0.99, 0.99) = True\n",
      "cube_1.is_inside(1, 0.1, 0.1) = False\n"
     ]
    }
   ],
   "source": [
    "from sphere import Sphere\n",
    "from cube import Cube\n",
    "\n",
    "sphere_1 = Sphere()\n",
    "print(f\"{sphere_1}\")\n",
    "print(f\"{sphere_1 = }\")\n",
    "print(f\"{sphere_1.area = }\")\n",
    "print(f\"{sphere_1.volume = }\")\n",
    "print(f\"{sphere_1.is_inside(0.5, 0.5, 0.5) = }\")\n",
    "print(f\"{sphere_1.is_inside(1, 0.1, 0.1) = }\")\n",
    "\n",
    "print()\n",
    "cube_1 = Cube(side_length=2)\n",
    "print(f\"{cube_1}\")\n",
    "print(f\"{cube_1 = }\")\n",
    "print(f\"{cube_1.area = }\")\n",
    "print(f\"{cube_1.volume = }\")\n",
    "print(f\"{cube_1.is_inside(0.99, 0.99, 0.99) = }\")\n",
    "print(f\"{cube_1.is_inside(1, 0.1, 0.1) = }\")"
   ]
  },
  {
   "cell_type": "markdown",
   "metadata": {},
   "source": [
    "Testing overloading of comparison operators for `Sphere` and `Cube`"
   ]
  },
  {
   "cell_type": "code",
   "execution_count": 18,
   "metadata": {},
   "outputs": [
    {
     "name": "stdout",
     "output_type": "stream",
     "text": [
      "sphere_1 < sphere_2 = False\n",
      "sphere_1 <= sphere_2 = True\n",
      "sphere_1 == sphere_2 = True\n",
      "sphere_1 >= sphere_2 = True\n",
      "sphere_1 > sphere_2 = False\n",
      "\n",
      "sphere_1 < sphere_3 = True\n",
      "sphere_1 <= sphere_3 = True\n",
      "sphere_1 == sphere_3 = False\n",
      "sphere_1 >= sphere_3 = False\n",
      "sphere_1 > sphere_3 = False\n",
      "\n",
      "sphere_1 = Sphere(x=0, y=0, z=0, radius=1) , sphere_2 = Sphere(x=1, y=2, z=3, radius=1) , sphere_3 = Sphere(x=0, y=0, z=0, radius=2)\n",
      "sphere_1 == sphere_2 = True\n",
      "sphere_1 == sphere_3 = False\n",
      "sphere_2 == sphere_3 = False\n",
      "\n",
      "sphere_1 != sphere_2 = False\n",
      "sphere_1 != sphere_3 = True\n",
      "sphere_2 != sphere_3 = True\n",
      "\n",
      "cube_1 < cube_2 = False\n",
      "cube_1 <= cube_2 = True\n",
      "cube_1 == cube_2 = True\n",
      "cube_1 >= cube_2 = True\n",
      "cube_1 > cube_2 = False\n",
      "cube_1 == cube_2 = True\n",
      "\n",
      "cube_1 < cube_3 = True\n",
      "cube_1 <= cube_3 = True\n",
      "cube_1 == cube_3 = False\n",
      "cube_1 >= cube_3 = False\n",
      "cube_1 > cube_3 = False\n",
      "cube_1 == cube_3 = False\n"
     ]
    }
   ],
   "source": [
    "sphere_2 = Sphere(x=1, y=2, z=3)\n",
    "sphere_3 = Sphere(radius=2)\n",
    "\n",
    "print(f\"{sphere_1 < sphere_2 = }\")\n",
    "print(f\"{sphere_1 <= sphere_2 = }\")\n",
    "print(f\"{sphere_1 == sphere_2 = }\")\n",
    "print(f\"{sphere_1 >= sphere_2 = }\")\n",
    "print(f\"{sphere_1 > sphere_2 = }\")\n",
    "\n",
    "print()\n",
    "print(f\"{sphere_1 < sphere_3 = }\")\n",
    "print(f\"{sphere_1 <= sphere_3 = }\")\n",
    "print(f\"{sphere_1 == sphere_3 = }\")\n",
    "print(f\"{sphere_1 >= sphere_3 = }\")\n",
    "print(f\"{sphere_1 > sphere_3 = }\")\n",
    "\n",
    "print()\n",
    "print(f\"{sphere_1 = } , {sphere_2 = } , {sphere_3 = }\")\n",
    "print(f\"{sphere_1 == sphere_2 = }\")\n",
    "print(f\"{sphere_1 == sphere_3 = }\")\n",
    "print(f\"{sphere_2 == sphere_3 = }\")\n",
    "\n",
    "print()\n",
    "print(f\"{sphere_1 != sphere_2 = }\")\n",
    "print(f\"{sphere_1 != sphere_3 = }\")\n",
    "print(f\"{sphere_2 != sphere_3 = }\")\n",
    "\n",
    "print()\n",
    "cube_2 = Cube(x=1, y=2, z=3, side_length=2)\n",
    "cube_3 = Cube(side_length=3)\n",
    "print(f\"{cube_1 < cube_2 = }\")\n",
    "print(f\"{cube_1 <= cube_2 = }\")\n",
    "print(f\"{cube_1 == cube_2 = }\")\n",
    "print(f\"{cube_1 >= cube_2 = }\")\n",
    "print(f\"{cube_1 > cube_2 = }\")\n",
    "print(f\"{cube_1 == cube_2 = }\")\n",
    "\n",
    "print()\n",
    "print(f\"{cube_1 < cube_3 = }\")\n",
    "print(f\"{cube_1 <= cube_3 = }\")\n",
    "print(f\"{cube_1 == cube_3 = }\")\n",
    "print(f\"{cube_1 >= cube_3 = }\")\n",
    "print(f\"{cube_1 > cube_3 = }\")\n",
    "print(f\"{cube_1 == cube_3 = }\")"
   ]
  },
  {
   "cell_type": "markdown",
   "metadata": {},
   "source": [
    "Testing overloading of `+` and `-` operators for `Sphere` and `Cube`"
   ]
  },
  {
   "cell_type": "code",
   "execution_count": 20,
   "metadata": {},
   "outputs": [
    {
     "name": "stdout",
     "output_type": "stream",
     "text": [
      "sphere_1 + sphere_2 = 8.377580409572781\n",
      "sphere_1 + cube_1 = 12.18879020478639\n",
      "sphere_1 + 100 = 104.18879020478639\n",
      "100 + sphere_1 = 104.18879020478639\n",
      "sum([sphere_1, sphere_2, cube_1]) = 16.37758040957278\n",
      "\n",
      "sphere_1 - sphere_2 = 0.0\n",
      "sphere_1 - sphere_3 = -29.321531433504735\n",
      "sphere_1 - 100 = -95.81120979521361\n",
      "100 - sphere_1 = -95.81120979521361\n"
     ]
    }
   ],
   "source": [
    "print(f\"{sphere_1 + sphere_2 = }\")\n",
    "print(f\"{sphere_1 + cube_1 = }\")\n",
    "print(f\"{sphere_1 + 100 = }\")\n",
    "print(f\"{100 + sphere_1 = }\")\n",
    "print(f\"{sum([sphere_1, sphere_2, cube_1]) = }\")\n",
    "\n",
    "\n",
    "print()\n",
    "print(f\"{sphere_1 - sphere_2 = }\")\n",
    "print(f\"{sphere_1 - sphere_3 = }\")\n",
    "print(f\"{sphere_1 - 100 = }\")\n",
    "print(f\"{100 - sphere_1 = }\")"
   ]
  }
 ],
 "metadata": {
  "kernelspec": {
   "display_name": "python-programming-VALTER-LEON-JZzHj7nO",
   "language": "python",
   "name": "python3"
  },
  "language_info": {
   "codemirror_mode": {
    "name": "ipython",
    "version": 3
   },
   "file_extension": ".py",
   "mimetype": "text/x-python",
   "name": "python",
   "nbconvert_exporter": "python",
   "pygments_lexer": "ipython3",
   "version": "3.11.4"
  }
 },
 "nbformat": 4,
 "nbformat_minor": 2
}
