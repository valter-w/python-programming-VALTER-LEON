{
 "cells": [
  {
   "cell_type": "markdown",
   "metadata": {},
   "source": [
    "# Manual testing\n",
    "\n",
    "The purpose of this notebook is to test the geometry classes in the most rudimentary ways."
   ]
  },
  {
   "cell_type": "markdown",
   "metadata": {},
   "source": [
    "## Testing `Shape2D` class"
   ]
  },
  {
   "cell_type": "code",
   "execution_count": 1,
   "metadata": {},
   "outputs": [],
   "source": [
    "from geometry_shapes.shape2d import Shape2D\n",
    "\n",
    "shape_1 = Shape2D()\n",
    "print(f\"{shape_1 = }\")"
   ]
  }
 ],
 "metadata": {
  "kernelspec": {
   "display_name": "python-programming-VALTER-LEON-JZzHj7nO",
   "language": "python",
   "name": "python3"
  },
  "language_info": {
   "codemirror_mode": {
    "name": "ipython",
    "version": 3
   },
   "file_extension": ".py",
   "mimetype": "text/x-python",
   "name": "python",
   "nbconvert_exporter": "python",
   "pygments_lexer": "ipython3",
   "version": "3.11.4"
  }
 },
 "nbformat": 4,
 "nbformat_minor": 2
}
