{
 "cells": [
  {
   "cell_type": "markdown",
   "metadata": {},
   "source": [
    "# Manual testing\n",
    "\n",
    "The purpose of this notebook is to test the geometry classes in the most rudimentary ways."
   ]
  },
  {
   "cell_type": "markdown",
   "metadata": {},
   "source": [
    "## Testing two-dimensional shapes\n",
    "Testing `Shape2D` class"
   ]
  },
  {
   "cell_type": "code",
   "execution_count": null,
   "metadata": {},
   "outputs": [],
   "source": [
    "from shape2d import Shape2D\n",
    "\n",
    "shape_1 = Shape2D()\n",
    "print(f\"{shape_1 = }\")\n",
    "print(f\"{shape_1.x = }\")\n",
    "print(f\"{shape_1.y = }\")\n",
    "\n",
    "print()\n",
    "shape_2 = Shape2D(y=3, x=5)\n",
    "print(f\"{shape_2 = }\")\n",
    "print(f\"{shape_2.x = }\")\n",
    "print(f\"{shape_2.y = }\")\n",
    "\n",
    "print()\n",
    "shape_1.translate(-3, -4)\n",
    "print(f\"{shape_1.x = }\")\n",
    "print(f\"{shape_1.y = }\")"
   ]
  },
  {
   "cell_type": "markdown",
   "metadata": {},
   "source": [
    "Testing the `Circle` and `Rectangle` classes"
   ]
  },
  {
   "cell_type": "code",
   "execution_count": 1,
   "metadata": {},
   "outputs": [
    {
     "name": "stdout",
     "output_type": "stream",
     "text": [
      "circle_1.is_unit_circle() = True\n",
      "circle_2.is_unit_circle() = False\n",
      "\n",
      "circle_1.is_inside(1, 0) = False\n",
      "circle_1.is_inside(0.5, 0.5) = True\n",
      "circle_1.is_inside(0.5, 0.5) = False\n",
      "\n",
      "rectangle_1.width = 1\n",
      "rectangle_1.height = 1\n",
      "rectangle_1.is_square() = True\n",
      "rectangle_1.is_inside(0.4, 0.4) = True\n"
     ]
    }
   ],
   "source": [
    "from circle import Circle\n",
    "from rectangle import Rectangle\n",
    "\n",
    "\n",
    "circle_1 = Circle(x=0, y=0, radius=1)\n",
    "print(f\"{circle_1.is_unit_circle() = }\")\n",
    "\n",
    "circle_2 = Circle(x=1, y=1, radius=1)\n",
    "print(f\"{circle_2.is_unit_circle() = }\")\n",
    "\n",
    "print()\n",
    "print(f\"{circle_1.is_inside(1, 0) = }\")\n",
    "print(f\"{circle_1.is_inside(0.5, 0.5) = }\")\n",
    "circle_1.translate(5, 5)\n",
    "print(f\"{circle_1.is_inside(0.5, 0.5) = }\")\n",
    "\n",
    "print()\n",
    "rectangle_1 = Rectangle(x=0, y=0, width=1, height=1)\n",
    "print(f\"{rectangle_1.width = }\")\n",
    "print(f\"{rectangle_1.height = }\")\n",
    "print(f\"{rectangle_1.is_square() = }\")\n",
    "print(f\"{rectangle_1.is_inside(0.4, 0.4) = }\")"
   ]
  },
  {
   "cell_type": "markdown",
   "metadata": {},
   "source": [
    "Testing overloading of comparison operators for `Circle` and `Rectangle`"
   ]
  },
  {
   "cell_type": "code",
   "execution_count": 2,
   "metadata": {},
   "outputs": [
    {
     "name": "stdout",
     "output_type": "stream",
     "text": [
      "circle_1 < circle_2 = False\n",
      "circle_1 <= circle_2 = True\n",
      "circle_1 == circle_2 = True\n",
      "circle_1 >= circle_2 = True\n",
      "circle_1 > circle_2 = False\n",
      "\n",
      "circle_1 < circle_3 = True\n",
      "circle_1 <= circle_3 = True\n",
      "circle_1 == circle_3 = False\n",
      "circle_1 >= circle_3 = False\n",
      "circle_1 > circle_3 = False\n",
      "\n",
      "circle_1 = Circle(x=5, y=5, radius=1) , circle_2 = Circle(x=1, y=1, radius=1) , circle_3 = Circle(x=100, y=-50, radius=2.5)\n",
      "circle_1 == circle_2 = True\n",
      "circle_1 == circle_3 = False\n",
      "circle_2 == circle_3 = False\n",
      "\n",
      "circle_1 != circle_2 = False\n",
      "circle_1 != circle_3 = True\n",
      "circle_2 != circle_3 = True\n"
     ]
    }
   ],
   "source": [
    "circle_3 = Circle(x=100, y=-50, radius=2.5)\n",
    "\n",
    "print(f\"{circle_1 < circle_2 = }\")\n",
    "print(f\"{circle_1 <= circle_2 = }\")\n",
    "print(f\"{circle_1 == circle_2 = }\")\n",
    "print(f\"{circle_1 >= circle_2 = }\")\n",
    "print(f\"{circle_1 > circle_2 = }\")\n",
    "\n",
    "print()\n",
    "print(f\"{circle_1 < circle_3 = }\")\n",
    "print(f\"{circle_1 <= circle_3 = }\")\n",
    "print(f\"{circle_1 == circle_3 = }\")\n",
    "print(f\"{circle_1 >= circle_3 = }\")\n",
    "print(f\"{circle_1 > circle_3 = }\")\n",
    "\n",
    "print()\n",
    "print(f\"{circle_1 = } , {circle_2 = } , {circle_3 = }\")\n",
    "print(f\"{circle_1 == circle_2 = }\")\n",
    "print(f\"{circle_1 == circle_3 = }\")\n",
    "print(f\"{circle_2 == circle_3 = }\")\n",
    "\n",
    "print()\n",
    "print(f\"{circle_1 != circle_2 = }\")\n",
    "print(f\"{circle_1 != circle_3 = }\")\n",
    "print(f\"{circle_2 != circle_3 = }\")"
   ]
  },
  {
   "cell_type": "markdown",
   "metadata": {},
   "source": [
    "Testing overloading of `+` and `-` operators for `Circle` and `Rectangle`"
   ]
  },
  {
   "cell_type": "code",
   "execution_count": 3,
   "metadata": {},
   "outputs": [
    {
     "name": "stdout",
     "output_type": "stream",
     "text": [
      "circle_1 + circle_2 = 6.283185307179586\n",
      "circle_1 + rectangle_1 = 4.141592653589793\n",
      "circle_1 + 100 = 103.1415926535898\n",
      "100 + circle_1 = 103.1415926535898\n",
      "sum([circle_1, circle_2, rectangle_1]) = 7.283185307179586\n",
      "\n",
      "circle_1 - circle_2 = 0.0\n",
      "circle_1 - circle_3 = -16.493361431346415\n",
      "circle_1 - 100 = -96.8584073464102\n",
      "100 - circle_1 = -96.8584073464102\n"
     ]
    }
   ],
   "source": [
    "print(f\"{circle_1 + circle_2 = }\")\n",
    "print(f\"{circle_1 + rectangle_1 = }\")\n",
    "print(f\"{circle_1 + 100 = }\")\n",
    "print(f\"{100 + circle_1 = }\")\n",
    "print(f\"{sum([circle_1, circle_2, rectangle_1]) = }\")\n",
    "\n",
    "\n",
    "print()\n",
    "print(f\"{circle_1 - circle_2 = }\")\n",
    "print(f\"{circle_1 - circle_3 = }\")\n",
    "print(f\"{circle_1 - 100 = }\")\n",
    "print(f\"{100 - circle_1 = }\")\n"
   ]
  },
  {
   "cell_type": "markdown",
   "metadata": {},
   "source": [
    "## Testing three-dimensional shapes\n",
    "Testing `Shape3D` class"
   ]
  },
  {
   "cell_type": "code",
   "execution_count": 7,
   "metadata": {},
   "outputs": [
    {
     "name": "stdout",
     "output_type": "stream",
     "text": [
      "shape_1 = Shape3D(x=0, y=0, z=0)\n",
      "shape_1.x = 0\n",
      "shape_1.y = 0\n",
      "shape_1.z = 0\n",
      "\n",
      "shape_2 = Shape3D(x=5, y=2, z=9)\n",
      "shape_2.x = 5\n",
      "shape_2.y = 2\n",
      "shape_2.z = 9\n",
      "\n",
      "shape_1.x = -3\n",
      "shape_1.y = -4\n",
      "shape_1.z = 9\n"
     ]
    }
   ],
   "source": [
    "from shape3d import Shape3D\n",
    "\n",
    "shape_1 = Shape3D()\n",
    "print(f\"{shape_1 = }\")\n",
    "print(f\"{shape_1.x = }\")\n",
    "print(f\"{shape_1.y = }\")\n",
    "print(f\"{shape_1.z = }\")\n",
    "\n",
    "print()\n",
    "shape_2 = Shape3D(y=2, x=5, z=9)\n",
    "print(f\"{shape_2 = }\")\n",
    "print(f\"{shape_2.x = }\")\n",
    "print(f\"{shape_2.y = }\")\n",
    "print(f\"{shape_2.z = }\")\n",
    "\n",
    "print()\n",
    "shape_1.translate(-3, -4, 9)\n",
    "print(f\"{shape_1.x = }\")\n",
    "print(f\"{shape_1.y = }\")\n",
    "print(f\"{shape_1.z = }\")"
   ]
  },
  {
   "cell_type": "markdown",
   "metadata": {},
   "source": [
    "Testing `Sphere` class"
   ]
  },
  {
   "cell_type": "code",
   "execution_count": 12,
   "metadata": {},
   "outputs": [
    {
     "name": "stdout",
     "output_type": "stream",
     "text": [
      "sphere with a radius 1 and its center at (0,0,0)\n",
      "sphere_1 = Sphere(x=0, y=0, z=0, radius=1)\n",
      "sphere_1.area = 12.566370614359172\n",
      "sphere_1.volume = 4.1887902047863905\n",
      "sphere_1.is_inside(0.5, 0.5, 0.5) = True\n",
      "sphere_1.is_inside(1, 0.1, 0.1) = False\n"
     ]
    }
   ],
   "source": [
    "from sphere import Sphere\n",
    "\n",
    "sphere_1 = Sphere()\n",
    "print(f\"{sphere_1}\")\n",
    "print(f\"{sphere_1 = }\")\n",
    "print(f\"{sphere_1.area = }\")\n",
    "print(f\"{sphere_1.volume = }\")\n",
    "print(f\"{sphere_1.is_inside(0.5, 0.5, 0.5) = }\")\n",
    "print(f\"{sphere_1.is_inside(1, 0.1, 0.1) = }\")"
   ]
  }
 ],
 "metadata": {
  "kernelspec": {
   "display_name": "python-programming-VALTER-LEON-JZzHj7nO",
   "language": "python",
   "name": "python3"
  },
  "language_info": {
   "codemirror_mode": {
    "name": "ipython",
    "version": 3
   },
   "file_extension": ".py",
   "mimetype": "text/x-python",
   "name": "python",
   "nbconvert_exporter": "python",
   "pygments_lexer": "ipython3",
   "version": "3.11.4"
  }
 },
 "nbformat": 4,
 "nbformat_minor": 2
}
