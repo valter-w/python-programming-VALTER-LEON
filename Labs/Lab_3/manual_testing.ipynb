{
 "cells": [
  {
   "cell_type": "markdown",
   "metadata": {},
   "source": [
    "# Manual testing\n",
    "\n",
    "The purpose of this notebook is to test the geometry classes in the most rudimentary ways."
   ]
  },
  {
   "cell_type": "markdown",
   "metadata": {},
   "source": [
    "## Testing `Shape2D` class"
   ]
  },
  {
   "cell_type": "code",
   "execution_count": null,
   "metadata": {},
   "outputs": [],
   "source": [
    "from shape2d import Shape2D\n",
    "\n",
    "shape_1 = Shape2D()\n",
    "print(f\"{shape_1 = }\")\n",
    "print(f\"{shape_1.x = }\")\n",
    "print(f\"{shape_1.y = }\")\n",
    "\n",
    "print()\n",
    "shape_2 = Shape2D(y=3, x=5)\n",
    "print(f\"{shape_2 = }\")\n",
    "print(f\"{shape_2.x = }\")\n",
    "print(f\"{shape_2.y = }\")\n",
    "\n",
    "print()\n",
    "shape_1.translate(-3, -4)\n",
    "print(f\"{shape_1.x = }\")\n",
    "print(f\"{shape_1.y = }\")"
   ]
  },
  {
   "cell_type": "markdown",
   "metadata": {},
   "source": [
    "Testing `Circle` class"
   ]
  },
  {
   "cell_type": "code",
   "execution_count": 3,
   "metadata": {},
   "outputs": [
    {
     "name": "stdout",
     "output_type": "stream",
     "text": [
      "circle_1.is_unit_circle() = True\n",
      "circle_2.is_unit_circle() = False\n"
     ]
    },
    {
     "ename": "TypeError",
     "evalue": "argument 'x' must be of type 'int' or 'float'",
     "output_type": "error",
     "traceback": [
      "\u001b[1;31m---------------------------------------------------------------------------\u001b[0m",
      "\u001b[1;31mTypeError\u001b[0m                                 Traceback (most recent call last)",
      "\u001b[1;32mc:\\Users\\valte\\Documents\\Repos\\python-programming-VALTER-LEON\\Labs\\Lab_3\\manual_testing.ipynb Cell 5\u001b[0m line \u001b[0;36m1\n\u001b[0;32m      <a href='vscode-notebook-cell:/c%3A/Users/valte/Documents/Repos/python-programming-VALTER-LEON/Labs/Lab_3/manual_testing.ipynb#W5sZmlsZQ%3D%3D?line=6'>7</a>\u001b[0m circle_2 \u001b[39m=\u001b[39m Circle(x\u001b[39m=\u001b[39m\u001b[39m1\u001b[39m, y\u001b[39m=\u001b[39m\u001b[39m1\u001b[39m, radius\u001b[39m=\u001b[39m\u001b[39m1\u001b[39m)\n\u001b[0;32m      <a href='vscode-notebook-cell:/c%3A/Users/valte/Documents/Repos/python-programming-VALTER-LEON/Labs/Lab_3/manual_testing.ipynb#W5sZmlsZQ%3D%3D?line=7'>8</a>\u001b[0m \u001b[39mprint\u001b[39m(\u001b[39mf\u001b[39m\u001b[39m\"\u001b[39m\u001b[39m{\u001b[39;00mcircle_2\u001b[39m.\u001b[39mis_unit_circle()\u001b[39m \u001b[39m\u001b[39m= }\u001b[39;00m\u001b[39m\"\u001b[39m)\n\u001b[1;32m---> <a href='vscode-notebook-cell:/c%3A/Users/valte/Documents/Repos/python-programming-VALTER-LEON/Labs/Lab_3/manual_testing.ipynb#W5sZmlsZQ%3D%3D?line=9'>10</a>\u001b[0m \u001b[39mprint\u001b[39m(\u001b[39mf\u001b[39m\u001b[39m\"\u001b[39m\u001b[39m{\u001b[39;00mcircle_1\u001b[39m.\u001b[39;49mis_inside(\u001b[39m'\u001b[39;49m\u001b[39ms\u001b[39;49m\u001b[39m'\u001b[39;49m,\u001b[39m \u001b[39;49m\u001b[39m0.5\u001b[39;49m)\u001b[39m \u001b[39m\u001b[39m= }\u001b[39;00m\u001b[39m\"\u001b[39m)\n",
      "File \u001b[1;32mc:\\Users\\valte\\Documents\\Repos\\python-programming-VALTER-LEON\\Labs\\Lab_3\\circle.py:20\u001b[0m, in \u001b[0;36mCircle.is_inside\u001b[1;34m(self, x, y)\u001b[0m\n\u001b[0;32m     18\u001b[0m \u001b[39mdef\u001b[39;00m \u001b[39mis_inside\u001b[39m(\u001b[39mself\u001b[39m, x, y):\n\u001b[0;32m     19\u001b[0m     \u001b[39m# let super class check argument type\u001b[39;00m\n\u001b[1;32m---> 20\u001b[0m     \u001b[39msuper\u001b[39;49m()\u001b[39m.\u001b[39;49mis_inside(x, y)\n\u001b[0;32m     22\u001b[0m     delta_x \u001b[39m=\u001b[39m \u001b[39mself\u001b[39m\u001b[39m.\u001b[39mx \u001b[39m-\u001b[39m x\n\u001b[0;32m     23\u001b[0m     delta_y \u001b[39m=\u001b[39m \u001b[39mself\u001b[39m\u001b[39m.\u001b[39my \u001b[39m-\u001b[39m y\n",
      "File \u001b[1;32mc:\\Users\\valte\\Documents\\Repos\\python-programming-VALTER-LEON\\Labs\\Lab_3\\shape2d.py:16\u001b[0m, in \u001b[0;36mShape2D.is_inside\u001b[1;34m(self, x, y)\u001b[0m\n\u001b[0;32m     14\u001b[0m \u001b[39mdef\u001b[39;00m \u001b[39mis_inside\u001b[39m(\u001b[39mself\u001b[39m, x, y):\n\u001b[0;32m     15\u001b[0m     \u001b[39mif\u001b[39;00m \u001b[39mnot\u001b[39;00m Shape2D\u001b[39m.\u001b[39m_is_numeric(x):\n\u001b[1;32m---> 16\u001b[0m         \u001b[39mraise\u001b[39;00m \u001b[39mTypeError\u001b[39;00m(\u001b[39m\"\u001b[39m\u001b[39margument \u001b[39m\u001b[39m'\u001b[39m\u001b[39mx\u001b[39m\u001b[39m'\u001b[39m\u001b[39m must be of type \u001b[39m\u001b[39m'\u001b[39m\u001b[39mint\u001b[39m\u001b[39m'\u001b[39m\u001b[39m or \u001b[39m\u001b[39m'\u001b[39m\u001b[39mfloat\u001b[39m\u001b[39m'\u001b[39m\u001b[39m\"\u001b[39m)\n\u001b[0;32m     18\u001b[0m     \u001b[39mif\u001b[39;00m \u001b[39mnot\u001b[39;00m Shape2D\u001b[39m.\u001b[39m_is_numeric(y):\n\u001b[0;32m     19\u001b[0m         \u001b[39mraise\u001b[39;00m \u001b[39mTypeError\u001b[39;00m(\u001b[39m\"\u001b[39m\u001b[39margument \u001b[39m\u001b[39m'\u001b[39m\u001b[39my\u001b[39m\u001b[39m'\u001b[39m\u001b[39m must be of type \u001b[39m\u001b[39m'\u001b[39m\u001b[39mint\u001b[39m\u001b[39m'\u001b[39m\u001b[39m or \u001b[39m\u001b[39m'\u001b[39m\u001b[39mfloat\u001b[39m\u001b[39m'\u001b[39m\u001b[39m\"\u001b[39m)\n",
      "\u001b[1;31mTypeError\u001b[0m: argument 'x' must be of type 'int' or 'float'"
     ]
    }
   ],
   "source": [
    "from circle import Circle\n",
    "\n",
    "\n",
    "circle_1 = Circle(x=0, y=0, radius=1)\n",
    "print(f\"{circle_1.is_unit_circle() = }\")\n",
    "\n",
    "circle_2 = Circle(x=1, y=1, radius=1)\n",
    "print(f\"{circle_2.is_unit_circle() = }\")\n",
    "\n",
    "print(f\"{circle_1.is_inside(0.5, 0.5) = }\")"
   ]
  }
 ],
 "metadata": {
  "kernelspec": {
   "display_name": "python-programming-VALTER-LEON-JZzHj7nO",
   "language": "python",
   "name": "python3"
  },
  "language_info": {
   "codemirror_mode": {
    "name": "ipython",
    "version": 3
   },
   "file_extension": ".py",
   "mimetype": "text/x-python",
   "name": "python",
   "nbconvert_exporter": "python",
   "pygments_lexer": "ipython3",
   "version": "3.11.4"
  }
 },
 "nbformat": 4,
 "nbformat_minor": 2
}
