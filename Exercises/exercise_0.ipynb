{
 "cells": [
  {
   "cell_type": "markdown",
   "metadata": {},
   "source": [
    "# 1. Pythagorean theorem (*)\n",
    "\n",
    "a)"
   ]
  },
  {
   "cell_type": "code",
   "execution_count": 2,
   "metadata": {},
   "outputs": [
    {
     "name": "stdout",
     "output_type": "stream",
     "text": [
      "The hypothenuse is 5.0\n"
     ]
    }
   ],
   "source": [
    "import math\n",
    "cathetus_a = 3\n",
    "cathetus_b = 4\n",
    "hypothenuse = math.sqrt(cathetus_a**2 + cathetus_b**2)\n",
    "print(f\"The length of the hypothenuse is {hypothenuse}\")"
   ]
  },
  {
   "cell_type": "markdown",
   "metadata": {},
   "source": [
    "b)"
   ]
  },
  {
   "cell_type": "code",
   "execution_count": 5,
   "metadata": {},
   "outputs": [
    {
     "name": "stdout",
     "output_type": "stream",
     "text": [
      "The length of cathetus b is 4.9\n"
     ]
    }
   ],
   "source": [
    "import math\n",
    "hypothenuse = 7.0\n",
    "cathetus_a = 5.0\n",
    "cathetus_b = math.sqrt(hypothenuse**2 - cathetus_a**2)\n",
    "print(f\"The length of cathetus b is {cathetus_b:.1f}\")"
   ]
  }
 ],
 "metadata": {
  "kernelspec": {
   "display_name": "Python-AI23-QBPa3kN6",
   "language": "python",
   "name": "python3"
  },
  "language_info": {
   "codemirror_mode": {
    "name": "ipython",
    "version": 3
   },
   "file_extension": ".py",
   "mimetype": "text/x-python",
   "name": "python",
   "nbconvert_exporter": "python",
   "pygments_lexer": "ipython3",
   "version": "3.11.5"
  },
  "orig_nbformat": 4
 },
 "nbformat": 4,
 "nbformat_minor": 2
}
