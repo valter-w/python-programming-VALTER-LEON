{
 "cells": [
  {
   "cell_type": "markdown",
   "metadata": {},
   "source": [
    "\n",
    "<a href=\"https://colab.research.google.com/github/kokchun/Python-course-AI22/blob/main/Exercises/01-if-statement-exercise.ipynb\" target=\"_parent\"><img align=\"left\" src=\"https://colab.research.google.com/assets/colab-badge.svg\" alt=\"Open In Colab\"/></a> &nbsp; to see hints and answers."
   ]
  },
  {
   "cell_type": "markdown",
   "metadata": {},
   "source": [
    "# if statements exercises\n",
    "\n",
    "---\n",
    "These are introductory exercises in Python with focus in **if** statement.\n",
    "\n",
    "<p class = \"alert alert-info\" role=\"alert\"><b>Remember</b> to use <b>descriptive variable names</b> in order to get readable code </p>\n",
    "\n",
    "<p class = \"alert alert-info\" role=\"alert\"><b>Remember</b> to format your answers in a neat way using <b>f-strings</b>\n",
    "\n",
    "<p class = \"alert alert-info\" role=\"alert\"><b>Remember</b> to format your input questions in a pedagogical way to guide the user\n",
    "\n",
    "The number of stars (\\*), (\\*\\*), (\\*\\*\\*) denotes the difficulty level of the task\n",
    "\n",
    "---"
   ]
  },
  {
   "cell_type": "markdown",
   "metadata": {},
   "source": [
    "## 1. Check sign (*)\n",
    "\n",
    "Ask the user to input a number and check if this number is **positive**, **negative** or **zero** and print it out."
   ]
  },
  {
   "cell_type": "markdown",
   "metadata": {},
   "source": [
    "### My solution:"
   ]
  },
  {
   "cell_type": "code",
   "execution_count": 1,
   "metadata": {},
   "outputs": [
    {
     "name": "stdout",
     "output_type": "stream",
     "text": [
      "The number you entered is positive.\n"
     ]
    }
   ],
   "source": [
    "number = input(\"Please enter a number: \")\n",
    "\n",
    "# cast with float() instead of int() so that floating point numbers\n",
    "# are accepted as input\n",
    "number = float(number)\n",
    "\n",
    "if number > 0:\n",
    "    state = \"positive\"\n",
    "elif number == 0:\n",
    "    state = \"zero\"\n",
    "else:\n",
    "    state = \"negative\"\n",
    "\n",
    "print(f\"The number you entered is {state}.\")"
   ]
  },
  {
   "cell_type": "markdown",
   "metadata": {},
   "source": [
    "---\n",
    "## 2. Smallest (*)\n",
    "Ask the user to input two numbers and check which one is the smallest and print it out.   "
   ]
  },
  {
   "cell_type": "markdown",
   "metadata": {},
   "source": [
    "### My solution:"
   ]
  },
  {
   "cell_type": "code",
   "execution_count": 2,
   "metadata": {},
   "outputs": [
    {
     "name": "stdout",
     "output_type": "stream",
     "text": [
      "The smallest number is -99.0.\n"
     ]
    }
   ],
   "source": [
    "number_1 = input(\"Please enter the first number: \")\n",
    "number_1 = float(number_1)\n",
    "\n",
    "number_2 = input(\"Please enter the second number: \")\n",
    "number_2 = float(number_2)\n",
    "\n",
    "smallest_number = number_1 if number_1 < number_2 else number_2\n",
    "\n",
    "print(f\"The smallest number is {smallest_number}.\")"
   ]
  },
  {
   "cell_type": "markdown",
   "metadata": {},
   "source": [
    "---\n",
    "## 3. Right angle (*)\n",
    "\n",
    "Ask the user to input three angles and check if the triangle has a right angle. Your code should make sure that all three angles are valid and make up a triangle.\n",
    "\n",
    "<img align=\"left\" src=\"https://raw.githubusercontent.com/everyloop/Python-AI23/93efd6a317ac60350170d274c91fe20be4cf489c/Assets/triangle_angles.png\" width=\"200\"/>"
   ]
  },
  {
   "cell_type": "markdown",
   "metadata": {},
   "source": [
    "### My solution:"
   ]
  },
  {
   "cell_type": "code",
   "execution_count": 15,
   "metadata": {},
   "outputs": [
    {
     "name": "stdout",
     "output_type": "stream",
     "text": [
      "The triangle has a right angle.\n"
     ]
    }
   ],
   "source": [
    "angle_a = input(\"Enter angle a (in degrees): \")\n",
    "angle_a = float(angle_a)\n",
    "\n",
    "angle_b = input(\"Enter angle b (in degrees): \")\n",
    "angle_b = float(angle_b)\n",
    "\n",
    "angle_c = input(\"Enter angle c (in degrees): \")\n",
    "angle_c = float(angle_c)\n",
    "\n",
    "angles_sum = angle_a + angle_b + angle_c\n",
    "\n",
    "if angle_a <= 0 or angle_b <= 0 or angle_c <= 0:\n",
    "    print(\"Incorrect data entered. All angles must be > 0\")\n",
    "elif angles_sum != 180:\n",
    "    print(\"Incorrect data entered. The sum of the angles must be 180 degrees.\")\n",
    "else:\n",
    "    if angle_a == 90 or angle_b == 90 or angle_c == 90:\n",
    "        print(\"The triangle has a right angle.\")\n",
    "    else:\n",
    "        print(\"The triangle has no right angles.\")"
   ]
  },
  {
   "cell_type": "markdown",
   "metadata": {},
   "source": [
    "----\n",
    "## 4. Medicine (*)\n",
    "\n",
    "The information in the following table is stated in a medicine package. Also it is stated that for children weight is more important than age.\n",
    "\n",
    "<table align=\"left\">\n",
    "<thead>\n",
    "    <tr>\n",
    "        <th></th>\n",
    "        <th>Age</th>\n",
    "        <th>Number of pills</th>\n",
    "    </tr>\n",
    "</thead>\n",
    "\n",
    "<tbody>\n",
    "  <tr>\n",
    "    <td>Adults & adolescent <br>over 40 kg</td>\n",
    "    <td>over 12 years</td>\n",
    "    <td>1-2</td>\n",
    "  </tr>\n",
    "\n",
    "  <tr>\n",
    "    <td>Children 26-40 kg</td>\n",
    "    <td>7-12 years</td>\n",
    "    <td>1/2-1</td>\n",
    "  </tr>\n",
    "\n",
    "  <tr>\n",
    "    <td>Children 15-25 kg</td>\n",
    "    <td>3-7 years</td>\n",
    "    <td>1/2</td>\n",
    "  </tr>\n",
    "</tbody>\n",
    "</table>"
   ]
  },
  {
   "cell_type": "markdown",
   "metadata": {},
   "source": [
    "Let the user input an **age** and a **weight**, the program should recommend the number of pills for the user."
   ]
  },
  {
   "cell_type": "markdown",
   "metadata": {},
   "source": [
    "### My solution:"
   ]
  },
  {
   "cell_type": "code",
   "execution_count": 19,
   "metadata": {},
   "outputs": [
    {
     "name": "stdout",
     "output_type": "stream",
     "text": [
      "Recommended dosage is 1-2 pills.\n"
     ]
    }
   ],
   "source": [
    "age = input(\"Please enter an age: \")\n",
    "age = int(age)\n",
    "\n",
    "weight = input(\"Please enter a weight: \")\n",
    "weight = float(weight)\n",
    "\n",
    "\n",
    "if age < 3:\n",
    "    print(\"The recipient is too young for this medication.\")\n",
    "elif weight < 15:\n",
    "    print(\"The recipient weighs to little for this medication.\")\n",
    "elif age <= 12:\n",
    "    if weight <= 25:\n",
    "        dosage = \"1/2\"\n",
    "    elif weight <= 40:\n",
    "        dosage = \"1/2 - 1\"\n",
    "    else:\n",
    "        dosage = \"1-2\"\n",
    "    print(f\"Recommended dosage is {dosage} pill(s).\")\n",
    "else:\n",
    "    print(f\"Recommended dosage is 1-2 pills.\")"
   ]
  },
  {
   "cell_type": "markdown",
   "metadata": {},
   "source": [
    "---\n",
    "## 5. Divisible (*)\n",
    "Let the user input a number. Check if the number is\n",
    "<ol type=\"a\">\n",
    "  <li>even or odd</li>\n",
    "  <li>is divisible by 5</li>\n",
    "  <li>is divisble by 5 and odd</li>\n",
    "</ol> "
   ]
  },
  {
   "cell_type": "markdown",
   "metadata": {},
   "source": [
    "### My solution:"
   ]
  },
  {
   "cell_type": "code",
   "execution_count": 3,
   "metadata": {},
   "outputs": [
    {
     "name": "stdout",
     "output_type": "stream",
     "text": [
      "35 is odd and divisible by 5.\n"
     ]
    }
   ],
   "source": [
    "number = input(\"Enter an integer: \")\n",
    "number = int(number)\n",
    "\n",
    "is_even = number % 2 == 0\n",
    "divisible_by_5 = number % 5 == 0\n",
    "\n",
    "if is_even and divisible_by_5:\n",
    "    print(f\"{number} is even and divisible by 5.\")\n",
    "elif divisible_by_5:\n",
    "    print(f\"{number} is odd and divisible by 5.\")\n",
    "elif is_even:\n",
    "    print(f\"{number} is even.\")\n",
    "else:\n",
    "    print(f\"{number} is odd.\")"
   ]
  },
  {
   "cell_type": "markdown",
   "metadata": {},
   "source": [
    "---\n",
    "## 6. Luggage size (*)\n",
    "\n",
    "The maximum allowed luggage size for boarding an airplane is: \n",
    "- weight: 8kg\n",
    "- dimensions: 55x40x23cm (length x width x height) \n",
    "\n",
    "Let the user input weight, length, width and height of the luggage. The program should check if the luggage is allowed or not."
   ]
  },
  {
   "cell_type": "markdown",
   "metadata": {},
   "source": [
    "### My solution:"
   ]
  },
  {
   "cell_type": "code",
   "execution_count": 30,
   "metadata": {},
   "outputs": [
    {
     "name": "stdout",
     "output_type": "stream",
     "text": [
      "Your luggage is not allowed. It exceeds the maximum width of 40 cm.\n"
     ]
    }
   ],
   "source": [
    "weight = input(\"Enter the weight (in kg): \")\n",
    "weight = float(weight)\n",
    "\n",
    "length = input(\"Enter the length (in cm): \")\n",
    "length = float(length)\n",
    "\n",
    "width = input(\"Enter the width (in cm): \")\n",
    "width = float(width)\n",
    "\n",
    "height = input(\"Enter the height (in cm): \")\n",
    "height = float(height)\n",
    "\n",
    "if weight > 8:\n",
    "    allowed = False\n",
    "    issue = \"It is heavier than the maximum weight of 8 kg.\"\n",
    "elif length > 55:\n",
    "    allowed = False\n",
    "    issue = \"It exceeds the maximum length of 55 cm.\"\n",
    "elif width > 40:\n",
    "    allowed = False\n",
    "    issue = \"It exceeds the maximum width of 40 cm.\"\n",
    "elif height > 23:\n",
    "    allowed = False\n",
    "    issue = \"It exceeds the maximum height of 23 cm.\"\n",
    "else:\n",
    "    allowed = True\n",
    "\n",
    "if allowed:\n",
    "    print(\"Your luggage is allowed.\")\n",
    "else:\n",
    "    print(f\"Your luggage is not allowed. {issue}\")"
   ]
  },
  {
   "cell_type": "markdown",
   "metadata": {},
   "source": [
    "---\n",
    "\n",
    "Kokchun Giang\n",
    "\n",
    "[LinkedIn][linkedIn_kokchun]\n",
    "\n",
    "[GitHub portfolio][github_portfolio]\n",
    "\n",
    "[linkedIn_kokchun]: https://www.linkedin.com/in/kokchungiang/\n",
    "[github_portfolio]: https://github.com/kokchun/Portfolio-Kokchun-Giang\n",
    "\n",
    "---"
   ]
  }
 ],
 "metadata": {
  "kernelspec": {
   "display_name": "Python 3.9.6 64-bit",
   "language": "python",
   "name": "python3"
  },
  "language_info": {
   "codemirror_mode": {
    "name": "ipython",
    "version": 3
   },
   "file_extension": ".py",
   "mimetype": "text/x-python",
   "name": "python",
   "nbconvert_exporter": "python",
   "pygments_lexer": "ipython3",
   "version": "3.11.4"
  },
  "orig_nbformat": 4,
  "vscode": {
   "interpreter": {
    "hash": "0da836a34428266995a795f1e1e27b816fa1c02f148d9728b3fbbbc5459afca6"
   }
  }
 },
 "nbformat": 4,
 "nbformat_minor": 2
}
