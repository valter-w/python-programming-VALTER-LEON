{
 "cells": [
  {
   "cell_type": "markdown",
   "metadata": {},
   "source": [
    "\n",
    "<a href=\"https://colab.research.google.com/github/kokchun/Python-course-AI22/blob/main/Exercises/E11-OOP-basic-exercise.ipynb\" target=\"_parent\"><img align=\"left\" src=\"https://colab.research.google.com/assets/colab-badge.svg\" alt=\"Open In Colab\"/></a> &nbsp; to see hints and answers."
   ]
  },
  {
   "cell_type": "markdown",
   "metadata": {},
   "source": [
    "# OOP introductory exercises\n",
    "\n",
    "---\n",
    "These are introductory exercises in Python with focus in **Object oriented programming**.\n",
    "\n",
    "<p class = \"alert alert-info\" role=\"alert\"><b>Remember</b> to use <b>descriptive variable, function and class names</b> in order to get readable code </p>\n",
    "\n",
    "<p class = \"alert alert-info\" role=\"alert\"><b>Remember</b> to format your answers in a neat way using <b>f-strings</b></p>\n",
    "\n",
    "The number of stars (\\*), (\\*\\*), (\\*\\*\\*) denotes the difficulty level of the task\n",
    "\n",
    "---"
   ]
  },
  {
   "cell_type": "markdown",
   "metadata": {},
   "source": [
    "## 1. Step tracker\n",
    "\n",
    "Create a class that can be used as a step tracker. It should have a property \"steps\" that is read only; a method step() that increases \"steps\" by 1 each time it is called; and a method reset() that resets the counter.\n",
    "\n",
    "Instantiate the class, and write a loop that simulates walking 1000 steps. Then print the value of \"steps\"."
   ]
  },
  {
   "cell_type": "markdown",
   "metadata": {},
   "source": [
    "## My solution:"
   ]
  },
  {
   "cell_type": "code",
   "execution_count": 2,
   "metadata": {},
   "outputs": [],
   "source": [
    "class Step_Tracker:\n",
    "    def __init__(self):\n",
    "        self._steps = 0\n",
    "\n",
    "    @property\n",
    "    def steps(self):\n",
    "        return self._steps\n",
    "\n",
    "    def step(self):\n",
    "        self._steps += 1\n",
    "\n",
    "    def reset(self):\n",
    "        self._steps = 0"
   ]
  },
  {
   "cell_type": "code",
   "execution_count": 4,
   "metadata": {},
   "outputs": [
    {
     "name": "stdout",
     "output_type": "stream",
     "text": [
      "The step tracker has registered 1000 steps.\n"
     ]
    }
   ],
   "source": [
    "tracker = Step_Tracker()\n",
    "\n",
    "for i in range(1000):\n",
    "    tracker.step()\n",
    "\n",
    "print(f\"The step tracker has registered {tracker.steps} steps.\")"
   ]
  },
  {
   "cell_type": "markdown",
   "metadata": {},
   "source": [
    "---\n",
    "## 2. Empty/full glass simulator (*)\n",
    "\n",
    "Create a class that represents a glass of water. It should have a method for filling the glass, and another method for emptying the glass. Also, there needs to be an internal/private attribute that keeps track of if the glass is empty or full. Depending on the current state (empty/full), the method that fills the glass should print either \"Filling the glass with water\" or \"The glass is already full\". The other method should print either \"Emptying the glass\" or \"The glass is already empty\".\n",
    "\n",
    "**Additional exercise:** Add another method to break the glass. Every glass (instance) keeps track of it's internal state, and prints what happens when the different methods are executed. Eg. \"The glass breaks. Now there is water all over the floor\", or \"The glass can not be filled, since it's broken\", etc."
   ]
  },
  {
   "cell_type": "markdown",
   "metadata": {},
   "source": [
    "## My solution:"
   ]
  },
  {
   "cell_type": "code",
   "execution_count": 12,
   "metadata": {},
   "outputs": [],
   "source": [
    "class Glass:\n",
    "    def __init__(self):\n",
    "        self._is_empty = True\n",
    "        self._is_shattered = False\n",
    "\n",
    "    def fill(self):\n",
    "        if self._is_shattered:\n",
    "            print(\"The cannot be filled as it is broken\")\n",
    "            return\n",
    "        if self._is_empty:\n",
    "            print(\"Filling the glass with water\")\n",
    "            self._is_empty = False\n",
    "        else:\n",
    "            print(\"The glass is already full\")\n",
    "\n",
    "    def empty(self):\n",
    "        if self._is_shattered:\n",
    "            print(\"The cannot be emptied as it is broken\")\n",
    "            return\n",
    "        if self._is_empty:\n",
    "            print(\"The glass is already empty\")\n",
    "        else:\n",
    "            self._is_empty = True\n",
    "            print(\"Emptying the glass\")\n",
    "\n",
    "    def shatter(self):\n",
    "        if self._is_shattered:\n",
    "            print(\"The glass is already broken\")\n",
    "        else:\n",
    "            print(\"The glass breaks. Now there is water all over the floor\")\n",
    "            self._is_shattered = True\n",
    "            self._is_empty = True"
   ]
  },
  {
   "cell_type": "code",
   "execution_count": 15,
   "metadata": {},
   "outputs": [
    {
     "name": "stdout",
     "output_type": "stream",
     "text": [
      "Filling the glass with water\n",
      "The glass is already full\n",
      "\n",
      "Emptying the glass\n",
      "The glass is already empty\n",
      "\n",
      "The glass breaks. Now there is water all over the floor\n",
      "\n",
      "The cannot be filled as it is broken\n",
      "The cannot be emptied as it is broken\n",
      "\n",
      "The glass is already broken\n"
     ]
    }
   ],
   "source": [
    "my_glass = Glass()\n",
    "\n",
    "my_glass.fill()\n",
    "my_glass.fill()\n",
    "\n",
    "print()\n",
    "\n",
    "my_glass.empty()\n",
    "my_glass.empty()\n",
    "\n",
    "print()\n",
    "\n",
    "my_glass.shatter()\n",
    "\n",
    "print()\n",
    "\n",
    "my_glass.fill()\n",
    "my_glass.empty()\n",
    "\n",
    "print()\n",
    "\n",
    "my_glass.shatter()"
   ]
  },
  {
   "cell_type": "markdown",
   "metadata": {},
   "source": [
    "---\n",
    "## 3. Red and blue (*)\n",
    "\n",
    "Create a class that has a property \"red\", and a property \"blue\". Both should be floats, and be able to take any value between 0.0 and 100.0. However, they should be \"linked\" in such a way that the sum of \"red\" and \"blue\" always is 100.0. i.e. if we set the value of \"blue\" to 8.5, and then read the value of \"red\", it should return 91.5"
   ]
  },
  {
   "cell_type": "markdown",
   "metadata": {},
   "source": [
    "## My solution:"
   ]
  },
  {
   "cell_type": "code",
   "execution_count": 92,
   "metadata": {},
   "outputs": [],
   "source": [
    "class Color_mix:\n",
    "    def __init__(self, red=None, blue=None):\n",
    "        if red is None and blue is None:\n",
    "            self.red = 50\n",
    "        elif red is not None and blue is not None:\n",
    "            raise ValueError(\"you may only provide argument 'red' or 'blue,\"\n",
    "                             \" not both\")\n",
    "        \n",
    "        elif not type(red) in [int, float] and red is not None:\n",
    "            raise TypeError(\"argument 'red' must be assigned a numeric value\")\n",
    "        elif not type(blue) in [int, float] and blue is not None:\n",
    "            raise TypeError(\"argument 'blue' must be assigned a numeric value\")\n",
    "        \n",
    "        elif type(red) in [int, float]:\n",
    "            if red < 0: red = 0\n",
    "            if red > 100: red = 100\n",
    "            self.red = red\n",
    "        elif type(blue) in [int, float]:\n",
    "            if blue < 0: blue = 0\n",
    "            if blue > 100: blue = 100\n",
    "            self.blue = blue\n",
    "\n",
    "    @property\n",
    "    def red(self):\n",
    "        return self._red\n",
    "    \n",
    "    @red.setter\n",
    "    def red(self, amount):\n",
    "        if not type(amount) in [int, float]:\n",
    "            raise TypeError(\"property 'red' must be assigned a numeric value\")\n",
    "        \n",
    "        if amount < 0: amount = 0\n",
    "        if amount > 100: amount = 100\n",
    "\n",
    "        self._red = amount\n",
    "        self._blue = 100 - self._red\n",
    "\n",
    "    @property\n",
    "    def blue(self):\n",
    "        return self._blue\n",
    "    \n",
    "    @blue.setter\n",
    "    def blue(self, amount):\n",
    "        if not type(amount) in [int, float]:\n",
    "            raise TypeError(\"property 'blue' must be assigned a numeric value\")\n",
    "        \n",
    "        if amount < 0: amount = 0\n",
    "        if amount > 100: amount = 100\n",
    "\n",
    "        self._blue = amount\n",
    "        self._red = 100 - self._blue "
   ]
  },
  {
   "cell_type": "code",
   "execution_count": 95,
   "metadata": {},
   "outputs": [
    {
     "name": "stdout",
     "output_type": "stream",
     "text": [
      "red: 0\t\tblue: 100\n",
      "red: 71.42857142857143\t\tblue: 28.57142857142857\n",
      "red: 0\t\tblue: 100\n"
     ]
    }
   ],
   "source": [
    "cm = Color_mix(blue=255)\n",
    "print(f\"red: {cm.red}\\t\\tblue: {cm.blue}\")\n",
    "\n",
    "cm.red = 5/7 * 100\n",
    "print(f\"red: {cm.red}\\t\\tblue: {cm.blue}\")\n",
    "\n",
    "cm.blue = 110\n",
    "print(f\"red: {cm.red}\\t\\tblue: {cm.blue}\")\n",
    "\n",
    "# cm.red = \"aaa\"\n",
    "# print(f\"red: {cm.red}\\t\\tblue: {cm.blue}\")"
   ]
  },
  {
   "cell_type": "markdown",
   "metadata": {},
   "source": [
    "---\n",
    "## 4. One thousand cars (*)\n",
    "\n",
    "Create a class that represents a car. Every car can have a color and a length. When a new car is instantiated it gets a random color, and a random length (between 3 and 5 meters). Instatiate 1000 cars a save them in a list. Then print the sum of the length of all green cars in the list."
   ]
  },
  {
   "cell_type": "markdown",
   "metadata": {},
   "source": [
    "## My solution:"
   ]
  },
  {
   "cell_type": "code",
   "execution_count": 138,
   "metadata": {},
   "outputs": [],
   "source": [
    "import random\n",
    "\n",
    "class Car:\n",
    "    def _get_random_color():\n",
    "        colors = [\"black\", \"white\", \"blue\", \"red\", \"silver\", \"yellow\", \"green\"]\n",
    "        return random.choice(colors)\n",
    "\n",
    "    def __init__(self):\n",
    "        self._color = Car._get_random_color()\n",
    "        self._length = round(random.uniform(3.0, 5.0), 2)\n",
    "\n",
    "    def __add__(self, other):\n",
    "        if type(other) is Car:\n",
    "            return self.length + other.length\n",
    "        elif type(other) in [float, int]:\n",
    "            return other + self.length\n",
    "        else:\n",
    "            raise TypeError(\"unsupported operand type(s) for +: 'Car' and\"\n",
    "                            f\" '{type(other).__name__}'\")\n",
    "        \n",
    "    def __radd__(self, other):\n",
    "        return self.__add__(other)\n",
    "\n",
    "    @property\n",
    "    def color(self):\n",
    "        return self._color\n",
    "    \n",
    "    @property\n",
    "    def length(self):\n",
    "        return self._length"
   ]
  },
  {
   "cell_type": "code",
   "execution_count": 152,
   "metadata": {},
   "outputs": [
    {
     "name": "stdout",
     "output_type": "stream",
     "text": [
      "car_a = <__main__.Car object at 0x000002002D8D5DD0>\n",
      "car_b = <__main__.Car object at 0x000002002C66F850>\n",
      "car_a + car_b = 8.77\n",
      "sum([car_a, car_b]) = 8.77\n"
     ]
    }
   ],
   "source": [
    "car_a = Car()\n",
    "car_b = Car()\n",
    "\n",
    "print(f\"{car_a = }\")\n",
    "print(f\"{car_b = }\")\n",
    "print(f\"{car_a + car_b = }\")\n",
    "print(f\"{sum([car_a, car_b]) = }\")"
   ]
  },
  {
   "cell_type": "code",
   "execution_count": 174,
   "metadata": {},
   "outputs": [
    {
     "name": "stdout",
     "output_type": "stream",
     "text": [
      "There are 137 green cars and their total length is 546.32 m.\n"
     ]
    }
   ],
   "source": [
    "cars = [Car() for i in range(1000)]\n",
    "\n",
    "green_cars = [car for car in cars if car.color == \"green\"]\n",
    "total_length = sum(green_cars)\n",
    "\n",
    "\n",
    "print(f\"There are {len(green_cars)} green cars and \"\n",
    "      f\"their total length is {round(total_length, 2)} m.\"\n",
    ")"
   ]
  },
  {
   "cell_type": "markdown",
   "metadata": {},
   "source": [
    "---\n",
    "## 5. Email (**)\n",
    "\n",
    "Create an email class with a property \"address\". When we set this property it should validate that we gave it a proper email address by checking that it contains one or more letter, followed by an at-sign (@), followed by one or more letter, then a dot (.), then at least to letters.\n",
    "\n",
    "We should also be able to provide the address directly, when creating an new instance of the class (it must still be validated).\n",
    "\n",
    "The class should also have the following properties: \"username\", \"domainname\", and \"topdomain\" implemented in such a way that, if we set the address to \"fredrik@everyloop.com\", the username should read \"fredrik\", the domainname should read \"everyloop.com\", and the topdomain should read \"com\".\n",
    "\n",
    "When changing any of the four properties, all the others must be updated accordingly; and the address must always remain valid."
   ]
  },
  {
   "cell_type": "markdown",
   "metadata": {},
   "source": [
    "---\n",
    "\n",
    "Fredrik Johansson\n",
    "\n",
    "[everyloop.com](https://www.everyloop.com)\n",
    "\n",
    "---"
   ]
  },
  {
   "cell_type": "markdown",
   "metadata": {},
   "source": [
    "## My solution"
   ]
  },
  {
   "cell_type": "code",
   "execution_count": 238,
   "metadata": {},
   "outputs": [],
   "source": [
    "import re\n",
    "\n",
    "class Email:\n",
    "    def __init__(self, address=None):\n",
    "        if address is None:\n",
    "            self._has_address = False\n",
    "            self._username = None\n",
    "            self._domainname = None\n",
    "            self._topdomain = None\n",
    "        elif type(address) is str:\n",
    "            self.address = address\n",
    "        else:\n",
    "            raise TypeError(\"argument 'address' must be of type 'str'\"\n",
    "                            \" (or None)\")\n",
    "\n",
    "    @property\n",
    "    def address(self):\n",
    "        if self._has_address:\n",
    "            return f\"{self._username}@{self._domainname}.{self._topdomain}\"\n",
    "        else:\n",
    "            return None\n",
    "\n",
    "    @address.setter\n",
    "    def address(self, addr):\n",
    "        if not type(addr) is str:\n",
    "            raise TypeError(\"property 'address' can only be assigned a value\"\n",
    "                            \" of type 'str'\")\n",
    "        regex = re.compile(r'([A-Za-z0-9]+[.-_])*[A-Za-z0-9]+@[A-Za-z0-9-]+(\\.[A-Z|a-z]{2,})')\n",
    "        if not re.fullmatch(regex, addr):\n",
    "            raise ValueError(\"the value assigned to property 'address' is not\"\n",
    "                             \" a valid email adress\")\n",
    "        \n",
    "        at_index = addr.index(\"@\")\n",
    "        last_dot_index = addr.rindex(\".\")\n",
    "\n",
    "        self._username = addr[:at_index]\n",
    "        # print(f\"{addr[:at_index] = }\")\n",
    "        self._domainname = addr[(at_index+1):last_dot_index]\n",
    "        # print(f\"{addr[(at_index+1):last_dot_index] = }\")\n",
    "        self._topdomain = addr[(last_dot_index + 1):]\n",
    "        # print(f\"{addr[(last_dot_index+1):] = }\")\n",
    "        self._has_address = True\n",
    "\n",
    "    @property\n",
    "    def username(self):\n",
    "        return self._username\n",
    "    \n",
    "    @username.setter\n",
    "    def username(self, username):\n",
    "        if type(username) is not str:\n",
    "            raise TypeError(\"property 'username' can only be assigned a value\"\n",
    "                            \" of type 'str'\")\n",
    "        \n",
    "        regex = re.compile(r'([A-Za-z0-9]+[.-_])*[A-Za-z0-9]+')\n",
    "        if not re.fullmatch(regex, username):\n",
    "            raise ValueError(\"the value assigned to property 'username' is not\"\n",
    "                             \" valid\")\n",
    "        self._username = username\n",
    "\n",
    "    @property\n",
    "    def domainname(self):\n",
    "        return self._domainname\n",
    "    \n",
    "    @domainname.setter\n",
    "    def domainname(self, domainname):\n",
    "        if type(domainname) is not str:\n",
    "            raise TypeError(\"property 'domainname' can only be assigned a value\"\n",
    "                            \" of type 'str'\")\n",
    "        \n",
    "        regex = re.compile(r'[A-Za-z0-9-]+')\n",
    "        if not re.fullmatch(regex, domainname):\n",
    "            raise ValueError(\"the value assigned to property 'domainname' is\"\n",
    "                             \" not valid\")\n",
    "        self._domainname = domainname\n",
    "\n",
    "    @property\n",
    "    def topdomain(self):\n",
    "        return self._topdomain\n",
    "    \n",
    "    @topdomain.setter\n",
    "    def topdomain(self, topdomain):\n",
    "        if type(topdomain) is not str:\n",
    "            raise TypeError(\"property 'topdomain' can only be assigned a value\"\n",
    "                            \" of type 'str'\")\n",
    "        \n",
    "        regex = re.compile(r'[A-Z|a-z]{2,}')\n",
    "        if not re.fullmatch(regex, topdomain):\n",
    "            raise ValueError(\"the value assigned to property 'topdomain' is\"\n",
    "                             \" not valid\")\n",
    "        self._topdomain = topdomain"
   ]
  },
  {
   "cell_type": "markdown",
   "metadata": {},
   "source": [
    "Testing the `Email` class:"
   ]
  },
  {
   "cell_type": "code",
   "execution_count": 240,
   "metadata": {},
   "outputs": [
    {
     "name": "stdout",
     "output_type": "stream",
     "text": [
      "my_email.address = 'valter.wierzba@gmail.com'\n",
      "\n",
      "my_email.username = 'valter.wierzba'\n",
      "my_email.username = 'valter'\n",
      "my_email.address = 'valter@gmail.com'\n",
      "\n",
      "my_email.domainname = 'gmail'\n",
      "my_email.domainname = 'wierzba'\n",
      "my_email.address = 'valter@wierzba.com'\n",
      "\n",
      "my_email.topdomain = 'com'\n",
      "my_email.topdomain = 'se'\n",
      "my_email.address = 'valter@wierzba.se'\n",
      "\n",
      "my_email.address = 'john.doe@example.com'\n",
      "my_email.username = 'john.doe'\n",
      "my_email.domainname = 'example'\n",
      "my_email.topdomain = 'com'\n"
     ]
    }
   ],
   "source": [
    "my_email = Email(address=\"valter.wierzba@gmail.com\")\n",
    "print(f\"{my_email.address = }\")\n",
    "\n",
    "print()\n",
    "print(f\"{my_email.username = }\")\n",
    "my_email.username = \"valter\"\n",
    "print(f\"{my_email.username = }\")\n",
    "print(f\"{my_email.address = }\")\n",
    "\n",
    "print()\n",
    "print(f\"{my_email.domainname = }\")\n",
    "my_email.domainname = \"wierzba\"\n",
    "print(f\"{my_email.domainname = }\")\n",
    "print(f\"{my_email.address = }\")\n",
    "\n",
    "print()\n",
    "print(f\"{my_email.topdomain = }\")\n",
    "my_email.topdomain = \"se\"\n",
    "print(f\"{my_email.topdomain = }\")\n",
    "print(f\"{my_email.address = }\")\n",
    "\n",
    "print()\n",
    "my_email.address = \"john.doe@example.com\"\n",
    "print(f\"{my_email.address = }\")\n",
    "print(f\"{my_email.username = }\")\n",
    "print(f\"{my_email.domainname = }\")\n",
    "print(f\"{my_email.topdomain = }\")"
   ]
  }
 ],
 "metadata": {
  "kernelspec": {
   "display_name": "Python 3.9.6 64-bit",
   "language": "python",
   "name": "python3"
  },
  "language_info": {
   "codemirror_mode": {
    "name": "ipython",
    "version": 3
   },
   "file_extension": ".py",
   "mimetype": "text/x-python",
   "name": "python",
   "nbconvert_exporter": "python",
   "pygments_lexer": "ipython3",
   "version": "3.11.4"
  },
  "orig_nbformat": 4,
  "vscode": {
   "interpreter": {
    "hash": "0da836a34428266995a795f1e1e27b816fa1c02f148d9728b3fbbbc5459afca6"
   }
  }
 },
 "nbformat": 4,
 "nbformat_minor": 2
}
