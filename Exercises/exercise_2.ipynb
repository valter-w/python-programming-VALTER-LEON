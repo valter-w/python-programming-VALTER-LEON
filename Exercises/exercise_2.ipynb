{
 "cells": [
  {
   "cell_type": "markdown",
   "metadata": {},
   "source": [
    "<a href=\"https://colab.research.google.com/github/kokchun/Python-course-AI22/blob/main/Exercises/02-while-statement-exercise.ipynb\" target=\"_parent\"><img align=\"left\" src=\"https://colab.research.google.com/assets/colab-badge.svg\" alt=\"Open In Colab\"/></a> &nbsp; to see hints and answers."
   ]
  },
  {
   "cell_type": "markdown",
   "metadata": {},
   "source": [
    "# while statement exercises\n",
    "\n",
    "---\n",
    "These are introductory exercises in Python with focus in **while** statement.\n",
    "\n",
    "<p class = \"alert alert-info\" role=\"alert\"><b>Remember</b> to use <b>descriptive variable names</b> in order to get readable code </p>\n",
    "\n",
    "<p class = \"alert alert-info\" role=\"alert\"><b>Remember</b> to format your answers in a neat way using <b>f-strings</b>\n",
    "\n",
    "<p class = \"alert alert-info\" role=\"alert\"><b>Remember</b> to format your input questions in a pedagogical way to guide the user\n",
    "\n",
    "The number of stars (\\*), (\\*\\*), (\\*\\*\\*) denotes the difficulty level of the task\n",
    "\n",
    "---"
   ]
  },
  {
   "cell_type": "markdown",
   "metadata": {},
   "source": [
    "## 1. Count numbers (*)\n",
    "\n",
    "Use a **while** statement to count from -10 to 10 with one increment. \n",
    "\n",
    "<details>\n",
    "\n",
    "<summary>Hint </summary>\n",
    "\n",
    "```python\n",
    "\n",
    "i += 1 # adds one and assigns it to i, equivalent to i = i + 1\n",
    "```\n",
    "\n",
    "</details>\n",
    "<br>\n",
    "<details>\n",
    "\n",
    "<summary>Answer </summary>\n",
    "\n",
    "```\n",
    "\n",
    "-10 -9 -8 -7 -6 -5 -4 -3 -2 -1 0 1 2 3 4 5 6 7 8 9 10\n",
    "```\n",
    "\n",
    "</details>\n"
   ]
  },
  {
   "cell_type": "markdown",
   "metadata": {},
   "source": [
    "### My solution:"
   ]
  },
  {
   "cell_type": "code",
   "execution_count": 1,
   "metadata": {},
   "outputs": [
    {
     "name": "stdout",
     "output_type": "stream",
     "text": [
      "-10 -9 -8 -7 -6 -5 -4 -3 -2 -1 0 1 2 3 4 5 6 7 8 9 10 "
     ]
    }
   ],
   "source": [
    "counter = -10\n",
    "\n",
    "while counter <= 10:\n",
    "    print(counter, end=\" \")\n",
    "    counter += 1"
   ]
  },
  {
   "cell_type": "markdown",
   "metadata": {},
   "source": [
    "--- \n",
    "## 2. Arithmetic sum (*)\n",
    "Use a **while** statement to compute the following sums: \n",
    "\n",
    "&nbsp; a) &nbsp; $\\text{sum} = 1 + 2 + \\ldots + 99+ 100$\n",
    "\n",
    "&nbsp; b) &nbsp; $\\text{sum} = 1 + 3 + 5 + \\ldots + 97 + 99$\n",
    "\n",
    "<details>\n",
    "\n",
    "<summary>Answer </summary>\n",
    "\n",
    "```\n",
    "a) 1 + 2 + ... + 99 + 100 = 5050 \n",
    "\n",
    "b) 1 + 3 + 5 +...+ 97 + 99 = 2500\n",
    "```\n",
    "\n",
    "</details>"
   ]
  },
  {
   "cell_type": "markdown",
   "metadata": {},
   "source": [
    "### My solutions\n",
    "\n",
    "a)"
   ]
  },
  {
   "cell_type": "code",
   "execution_count": 2,
   "metadata": {},
   "outputs": [
    {
     "name": "stdout",
     "output_type": "stream",
     "text": [
      "sum = 5050\n"
     ]
    }
   ],
   "source": [
    "sum = 0\n",
    "counter = 1\n",
    "\n",
    "while counter <= 100:\n",
    "    sum += counter\n",
    "    counter += 1\n",
    "\n",
    "print(f\"{sum = }\")"
   ]
  },
  {
   "cell_type": "markdown",
   "metadata": {},
   "source": [
    "b)"
   ]
  },
  {
   "cell_type": "code",
   "execution_count": 3,
   "metadata": {},
   "outputs": [
    {
     "name": "stdout",
     "output_type": "stream",
     "text": [
      "sum = 2500\n"
     ]
    }
   ],
   "source": [
    "sum = 0\n",
    "counter = 1\n",
    "\n",
    "while counter < 100:\n",
    "    sum += counter\n",
    "    counter += 2\n",
    "\n",
    "print(f\"{sum = }\")"
   ]
  },
  {
   "cell_type": "markdown",
   "metadata": {},
   "source": [
    "--- \n",
    "## 3. Guess number game (*)\n",
    "&nbsp; a) &nbsp; Create a guessing number game following this flow chart: \n",
    "\n",
    "<img align=\"left\" src=\"https://raw.githubusercontent.com/everyloop/Python-AI23/93efd6a317ac60350170d274c91fe20be4cf489c/Assets/guessing_game.png\" width=\"300\"/>"
   ]
  },
  {
   "cell_type": "markdown",
   "metadata": {},
   "source": [
    "&nbsp; b) &nbsp; Make an algorithm to automatically guess the correct number. Can you optimize to get as few guesses as possible? (**)\n",
    "\n",
    "<details>\n",
    "\n",
    "<summary>Hint </summary>\n",
    "\n",
    "&nbsp; b) &nbsp; Half your testing number each time \n",
    "\n",
    "</details>"
   ]
  },
  {
   "cell_type": "markdown",
   "metadata": {},
   "source": [
    "### My solutions:\n",
    "\n",
    "a)"
   ]
  },
  {
   "cell_type": "code",
   "execution_count": 6,
   "metadata": {},
   "outputs": [],
   "source": [
    "import random\n",
    "\n",
    "answer = random.randint(1, 100)\n",
    "#print(f\"{answer = }\")\n",
    "\n",
    "while True:\n",
    "    guessed_number = input(\"Guess the number (1-100): \")\n",
    "    guessed_number = int(guessed_number)\n",
    "    #print(f\"{guessed_number = }\")\n",
    "    if guessed_number == answer:\n",
    "        print(\"Congratulations! You guessed the correct number.\")\n",
    "        break\n",
    "    else:\n",
    "        #print(\"Wrong! Try again!\")\n",
    "        \n",
    "        if answer < guessed_number:\n",
    "            relation = \"smaller\"\n",
    "        else:\n",
    "            relation = \"larger\"\n",
    "        hint = \"The number we are looking for is\"\n",
    "        hint = f\"{hint} {relation} than {guessed_number}\"\n",
    "        print(hint)"
   ]
  },
  {
   "cell_type": "markdown",
   "metadata": {},
   "source": [
    "b)\n",
    "\n",
    "*x* is a random number in the range *m* to *n*.\n",
    "\n",
    "Step 1: Ask if x is *round(m - n / 2)*\n",
    "\n",
    "Step 2:\\\n",
    "&nbsp;If that is the correct answer, end the game.\\\n",
    "&nbsp;If x is lower than that:\\\n",
    "&nbsp;&nbsp;make n = round(m - n / 2), then repeat step 1.\\\n",
    "&nbsp;If x is larger than that:\\\n",
    "&nbsp;&nbsp;make m = round(m - n / 2), then repeat step 1.\n",
    "        "
   ]
  },
  {
   "cell_type": "markdown",
   "metadata": {},
   "source": [
    "--- \n",
    "## 4. Multiplication game (*)\n",
    "&nbsp; a) &nbsp; Create a multiplication game following this flow chart: \n",
    "\n",
    "<img align=\"left\" src=\"https://raw.githubusercontent.com/everyloop/Python-AI23/93efd6a317ac60350170d274c91fe20be4cf489c/Assets/Multiplication_game.png\" width=\"300\"/>"
   ]
  },
  {
   "cell_type": "markdown",
   "metadata": {},
   "source": [
    "&nbsp; b) &nbsp; Add a menu for choosing difficulty level of the game\n",
    "\n",
    "&nbsp; c) &nbsp; Feel free to extend this program with features of your choice."
   ]
  },
  {
   "cell_type": "markdown",
   "metadata": {},
   "source": [
    "### My solution:"
   ]
  },
  {
   "cell_type": "code",
   "execution_count": 5,
   "metadata": {},
   "outputs": [
    {
     "name": "stdout",
     "output_type": "stream",
     "text": [
      "You are playing the multiplication game.\n",
      "Good work!\n",
      "Good work!\n",
      "Good work!\n",
      "Thank you for playing. You scored 3 of 3 played games.\n"
     ]
    }
   ],
   "source": [
    "import random\n",
    "\n",
    "keep_playing = True\n",
    "played_games = 0\n",
    "score = 0\n",
    "\n",
    "print(\"You are playing the multiplication game.\")\n",
    "\n",
    "max_factor = input(\"Choose the largest allowed factor (5-100): \")\n",
    "max_factor = int(max_factor)\n",
    "while max_factor < 5 or max_factor > 100:\n",
    "    print(\"Invalid number.\")\n",
    "    max_factor = input(\"Choose the largest allowed factor (5-100): \")\n",
    "    max_factor = int(max_factor)\n",
    "\n",
    "while keep_playing:\n",
    "    x = random.randint(1, max_factor)\n",
    "    y = random.randint(1, max_factor)\n",
    "    \n",
    "    answer = input(f\"What is {x} * {y}? \")\n",
    "    answer = int(answer)\n",
    "    if (answer == x * y):\n",
    "        score += 1\n",
    "        print(\"Good work!\")\n",
    "    else:\n",
    "        print(f\"Wrong. {x} * {y} is {x * y}.\")\n",
    "\n",
    "    played_games += 1\n",
    "\n",
    "    action = input(\"Want to play again (y/n)? \")\n",
    "    keep_playing = action == \"y\"\n",
    "\n",
    "message = \"Thank you for playing.\"\n",
    "message = f\"{message} You scored {score} of {played_games} played games.\"\n",
    "print(message)\n"
   ]
  },
  {
   "cell_type": "markdown",
   "metadata": {},
   "source": [
    "--- \n",
    "## 5. Check convergence (**)\n",
    "Use a while statement to compute the following sums: \n",
    "\n",
    "&nbsp; a) &nbsp; $\\text{sum} = 1 + \\frac{1}{2} + \\frac{1}{4} + \\frac{1}{8} + \\dots + \\frac{1}{2^n}$\n",
    "\n",
    "&nbsp; b) &nbsp; $\\text{sum} = 1 - \\frac{1}{3} + \\frac{1}{5} - \\frac{1}{7} + \\dots + \\frac{(-1)^n}{2n+1}$\n",
    "\n",
    "Try different values on $n$ to see which value it converges to.\n",
    "\n",
    "<details>\n",
    "\n",
    "<summary>Answer </summary>\n",
    "\n",
    "&nbsp; a) &nbsp; $1 + \\frac{1}{2} + \\frac{1}{4} + \\frac{1}{8} + \\dots + \\frac{1}{2^n} \\xrightarrow[n\\rightarrow \\infty]{} 2$ \n",
    "\n",
    "&nbsp; b) &nbsp; $ 1 - \\frac{1}{3} + \\frac{1}{5} - \\frac{1}{7} + \\dots + \\frac{(-1)^n}{2n+1} \\xrightarrow[n\\rightarrow \\infty]{} \\frac{\\pi}{4}$\n",
    "\n",
    "</details>"
   ]
  },
  {
   "cell_type": "markdown",
   "metadata": {},
   "source": [
    "### My solutions:\n",
    "\n",
    "a) The sum converges towards 2:"
   ]
  },
  {
   "cell_type": "code",
   "execution_count": 19,
   "metadata": {},
   "outputs": [
    {
     "name": "stdout",
     "output_type": "stream",
     "text": [
      "If n =  5 then sum = 1.96875000000000000000\n",
      "If n = 10 then sum = 1.99902343750000000000\n",
      "If n = 15 then sum = 1.99996948242187500000\n",
      "If n = 20 then sum = 1.99999904632568359375\n",
      "If n = 25 then sum = 1.99999997019767761230\n",
      "If n = 30 then sum = 1.99999999906867742538\n",
      "If n = 35 then sum = 1.99999999997089616954\n",
      "If n = 40 then sum = 1.99999999999909050530\n",
      "If n = 45 then sum = 1.99999999999997157829\n",
      "If n = 50 then sum = 1.99999999999999911182\n"
     ]
    }
   ],
   "source": [
    "n = 5\n",
    "while n <= 50:\n",
    "    sum = 1\n",
    "    counter = 1\n",
    "    while counter <= n:\n",
    "        sum += 1 / (2**counter)\n",
    "        counter += 1\n",
    "    print(f\"If n = {n:2} then sum = {sum:.20f}\")\n",
    "    n += 5"
   ]
  },
  {
   "cell_type": "markdown",
   "metadata": {},
   "source": [
    "b) The sum converges towards π/4:"
   ]
  },
  {
   "cell_type": "code",
   "execution_count": 47,
   "metadata": {},
   "outputs": [
    {
     "name": "stdout",
     "output_type": "stream",
     "text": [
      "If n =  1000 then sum = 0.78564791358488605955\n",
      "If n =  2000 then sum = 0.78552310092088140081\n",
      "If n =  3000 then sum = 0.78548146895994741534\n",
      "If n =  4000 then sum = 0.78546064777537893953\n",
      "If n =  5000 then sum = 0.78544815339894769046\n",
      "If n =  6000 then sum = 0.78543982312053706174\n",
      "If n =  7000 then sum = 0.78543387258166652565\n",
      "If n =  8000 then sum = 0.78542940949156114794\n",
      "If n =  9000 then sum = 0.78542593808905958319\n",
      "If n = 10000 then sum = 0.78542316089763364317\n",
      "                  π/4 = 0.78539816339744827900\n"
     ]
    }
   ],
   "source": [
    "import math\n",
    "\n",
    "n = 1000\n",
    "while n <= 10_000:\n",
    "    sum = 1\n",
    "    counter = 1\n",
    "    while counter <= n:\n",
    "        sum += ((-1)**counter) / (2 * counter + 1)\n",
    "        counter += 1\n",
    "    print(f\"If n = {n:5} then sum = {sum:.20f}\")\n",
    "    n += 1000\n",
    "s = \"π/4 =\"\n",
    "print(f\"{s:>23} {math.pi / 4:.20f}\")"
   ]
  },
  {
   "cell_type": "markdown",
   "metadata": {},
   "source": [
    "---\n",
    "\n",
    "Kokchun Giang\n",
    "\n",
    "[LinkedIn][linkedIn_kokchun]\n",
    "\n",
    "[GitHub portfolio][github_portfolio]\n",
    "\n",
    "[linkedIn_kokchun]: https://www.linkedin.com/in/kokchungiang/\n",
    "[github_portfolio]: https://github.com/kokchun/Portfolio-Kokchun-Giang\n",
    "\n",
    "---"
   ]
  }
 ],
 "metadata": {
  "kernelspec": {
   "display_name": "Python 3.9.6 64-bit",
   "language": "python",
   "name": "python3"
  },
  "language_info": {
   "codemirror_mode": {
    "name": "ipython",
    "version": 3
   },
   "file_extension": ".py",
   "mimetype": "text/x-python",
   "name": "python",
   "nbconvert_exporter": "python",
   "pygments_lexer": "ipython3",
   "version": "3.11.4"
  },
  "orig_nbformat": 4,
  "vscode": {
   "interpreter": {
    "hash": "0da836a34428266995a795f1e1e27b816fa1c02f148d9728b3fbbbc5459afca6"
   }
  }
 },
 "nbformat": 4,
 "nbformat_minor": 2
}
