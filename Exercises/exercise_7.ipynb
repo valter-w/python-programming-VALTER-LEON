{
 "cells": [
  {
   "cell_type": "markdown",
   "metadata": {},
   "source": [
    "# Collections exercises\n",
    "\n",
    "---\n",
    "These are introductory exercises in Python with focus on **Collections** (list, dictionary, set).\n",
    "\n",
    "<p class = \"alert alert-info\" role=\"alert\"><b>List</b> is a collection of items which are ordered and changeable. Allows duplicate members.</p>\n",
    "\n",
    "<p class = \"alert alert-info\" role=\"alert\"><b>Dictionary</b> is a collection of key-value-pairs which are ordered and changeable. No duplicate keys.</p>\n",
    "\n",
    "<p class = \"alert alert-info\" role=\"alert\"><b>Set</b> is a collection of items which is unordered, unchangeable*, and unindexed. No duplicate members.</p>\n",
    "\n",
    "The number of stars (\\*), (\\*\\*), (\\*\\*\\*) denotes the difficulty level of the task\n",
    "\n",
    "---"
   ]
  },
  {
   "cell_type": "markdown",
   "metadata": {},
   "source": [
    "## 1. Print inputed values in reverse (*)\n",
    "\n",
    "Create a loop that keeps asking for user input until the user inputs an empty string, then print all inputs in reverse order."
   ]
  },
  {
   "cell_type": "markdown",
   "metadata": {},
   "source": [
    "### My solution:"
   ]
  },
  {
   "cell_type": "code",
   "execution_count": 1,
   "metadata": {},
   "outputs": [
    {
     "name": "stdout",
     "output_type": "stream",
     "text": [
      "\n",
      "Your input in reverse order:\n",
      "Goddag\n",
      "Hallå\n",
      "Hej\n"
     ]
    }
   ],
   "source": [
    "texts = []\n",
    "\n",
    "while True:\n",
    "    text = input(\"Enter some text (or nothing when you are done): \")\n",
    "    if len(text) == 0:\n",
    "        break\n",
    "    else:\n",
    "        texts.append(text)\n",
    "\n",
    "texts.reverse()\n",
    "\n",
    "print(\"\\nYour input in reverse order:\")\n",
    "for text in texts:\n",
    "    print(text)"
   ]
  },
  {
   "cell_type": "markdown",
   "metadata": {},
   "source": [
    "---\n",
    "\n",
    "## 2. Print a given number using words. (*)\n",
    "\n",
    "Create a dictionary with 10 key-value pairs: {\"0\": \"Zero\", \"1\": \"One\", ..., \"9\": \"Nine\"}\n",
    "\n",
    "Make the program ask the user to input a number, then print the word for each number in sequence;\n",
    "\n",
    "<details>\n",
    "\n",
    "<summary>Example</summary>\n",
    "\n",
    "```\n",
    "Input: 34507\n",
    "Output: Three-Four-Five-Zero-Seven\n",
    "```\n",
    "\n",
    "</details>\n"
   ]
  },
  {
   "cell_type": "markdown",
   "metadata": {},
   "source": [
    "### My solution:"
   ]
  },
  {
   "cell_type": "code",
   "execution_count": 5,
   "metadata": {},
   "outputs": [
    {
     "name": "stdout",
     "output_type": "stream",
     "text": [
      "Your digits in spelled form: Three-Four-Five-Zero-Seven\n"
     ]
    }
   ],
   "source": [
    "while True:\n",
    "    digits = input(\"Enter some digit: \")\n",
    "    digits = digits.strip()\n",
    "    if not digits.isdecimal():\n",
    "        print(\"Invalid input. Try again.\", end=\"\\n\\n\")\n",
    "    else:\n",
    "        break\n",
    "\n",
    "spelled_digits = {\n",
    "    \"0\": \"Zero\",\n",
    "    \"1\": \"One\",\n",
    "    \"2\": \"Two\",\n",
    "    \"3\": \"Three\",\n",
    "    \"4\": \"Four\",\n",
    "    \"5\": \"Five\",\n",
    "    \"6\": \"Six\",\n",
    "    \"7\": \"Seven\",\n",
    "    \"8\": \"Eight\",\n",
    "    \"9\": \"Nine\"\n",
    "}\n",
    "\n",
    "output = \"\"\n",
    "for index, digit in enumerate(digits):\n",
    "    if index > 0:\n",
    "        output += \"-\"\n",
    "    output += spelled_digits[digit]\n",
    "\n",
    "print(f\"Your digits in spelled form: {output}\")\n"
   ]
  },
  {
   "cell_type": "markdown",
   "metadata": {},
   "source": [
    "---\n",
    "## 3. Glossary training program (*)\n",
    "\n",
    "Create a glossary training program, where the user can test their skills on translating the names of english colors to swedish:\n",
    "\n",
    "- The program should ask the user to write a color in swedish (eg. \"Type the Swedish word for 'red': )\n",
    "\n",
    "- Then let the user know if it was correct (and if not, show them the correct translation)\n",
    "\n",
    "- Keep asking to translate random colors until the user inputs an blank answer (\"\")\n",
    "\n",
    "- Lastly let the user know how many of their translations where correct, how many they guess in total, and the ratio of correct answer (eg. \"You got 3 out of 5 correct answers. That is 60%\")\n"
   ]
  },
  {
   "cell_type": "markdown",
   "metadata": {},
   "source": [
    "### My solution:\n",
    "\n",
    "See [exercise_7_task_3.py](./exercise_7_task_3.py)"
   ]
  },
  {
   "cell_type": "markdown",
   "metadata": {},
   "source": [
    "---\n",
    "## 4. Find common values between two inputs (*)\n",
    "\n",
    "Ask the user to input items on a comma-seperated list (1 input string)\n",
    "\n",
    "Then ask the user to input a new string of comma seperated items.\n",
    "\n",
    "Lastly, print all the items that appeared in both lists.\n",
    "\n",
    "<details>\n",
    "\n",
    "<summary>Example</summary>\n",
    "\n",
    "```\n",
    "Input A: green, red, yellow, purple, blue\n",
    "Input B: red, blue, black, white, brown\n",
    "Output: red, blue\n",
    "```\n",
    "\n",
    "</details>"
   ]
  },
  {
   "cell_type": "markdown",
   "metadata": {},
   "source": [
    "### My solution:"
   ]
  },
  {
   "cell_type": "code",
   "execution_count": 8,
   "metadata": {},
   "outputs": [
    {
     "name": "stdout",
     "output_type": "stream",
     "text": [
      "There are no values appearing in both datasets\n"
     ]
    }
   ],
   "source": [
    "first_input = input(\"Enter the first dataset of (comma-separated) values: \")\n",
    "first_set = set(first_input.split(\",\"))\n",
    "\n",
    "second_input = input(\"Enter the second dataset of (comma-separated) values: \")\n",
    "second_set = set(second_input.split(\",\"))\n",
    "\n",
    "common_values = first_set.intersection(second_set)\n",
    "\n",
    "if len(common_values) == 0:\n",
    "    print(\"There are no values appearing in both datasets.\")\n",
    "else:\n",
    "    print(\"The following values appear in both datasets:\")\n",
    "    for value in common_values:\n",
    "        print(value)"
   ]
  },
  {
   "cell_type": "markdown",
   "metadata": {},
   "source": [
    "---\n",
    "\n",
    "## 5. Print a given number using words (version 2). (**)\n",
    "\n",
    "Make the program ask the user to input any number from 0 to 99999.\n",
    "\n",
    "The program should then print out the full sequence of words for the number.\n",
    "\n",
    "<details>\n",
    "\n",
    "<summary>Example</summary>\n",
    "\n",
    "```\n",
    "Input: 34507\n",
    "Output: Thirtyfour thousand five hundred and seven\n",
    "```\n",
    "\n",
    "</details>\n"
   ]
  },
  {
   "cell_type": "markdown",
   "metadata": {},
   "source": [
    "### (Not yet solved)"
   ]
  },
  {
   "cell_type": "markdown",
   "metadata": {},
   "source": [
    "---\n",
    "\n",
    "Fredrik Johansson\n",
    "\n",
    "Github: https://github.com/everyloop\n",
    "\n",
    "---"
   ]
  }
 ],
 "metadata": {
  "kernelspec": {
   "display_name": "Python 3.9.6 64-bit",
   "language": "python",
   "name": "python3"
  },
  "language_info": {
   "codemirror_mode": {
    "name": "ipython",
    "version": 3
   },
   "file_extension": ".py",
   "mimetype": "text/x-python",
   "name": "python",
   "nbconvert_exporter": "python",
   "pygments_lexer": "ipython3",
   "version": "3.11.4"
  },
  "orig_nbformat": 4,
  "vscode": {
   "interpreter": {
    "hash": "0da836a34428266995a795f1e1e27b816fa1c02f148d9728b3fbbbc5459afca6"
   }
  }
 },
 "nbformat": 4,
 "nbformat_minor": 2
}
