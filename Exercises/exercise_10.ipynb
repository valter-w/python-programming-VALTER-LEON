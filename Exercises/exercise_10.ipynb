{
 "cells": [
  {
   "cell_type": "markdown",
   "metadata": {},
   "source": [
    "<a href=\"https://colab.research.google.com/github/kokchun/Python-course-AI22/blob/main/Exercises/E10-numpy.ipynb\" target=\"_parent\"><img align=\"left\" src=\"https://colab.research.google.com/assets/colab-badge.svg\" alt=\"Open In Colab\"/></a> &nbsp; to see hints and answers."
   ]
  },
  {
   "cell_type": "markdown",
   "metadata": {},
   "source": [
    "# Numpy exercises\n",
    "\n",
    "---\n",
    "These are introductory exercises in Python with focus in **Numpy**.\n",
    "\n",
    "<p class = \"alert alert-info\" role=\"alert\"><b>Remember</b> to use <b>descriptive variable names</b> in order to get readable code </p>\n",
    "\n",
    "<p class = \"alert alert-info\" role=\"alert\"><b>Remember</b> to format your answers in a neat way using <b>f-strings</b>\n",
    "\n",
    "<p class = \"alert alert-info\" role=\"alert\"><b>Remember</b> to format your input questions in a pedagogical way to guide the user\n",
    "\n",
    "The number of stars (\\*), (\\*\\*), (\\*\\*\\*) denotes the difficulty level of the task\n",
    "\n",
    "---"
   ]
  },
  {
   "cell_type": "markdown",
   "metadata": {},
   "source": [
    "## 1. Dice simulations (*)\n",
    "\n",
    "Simulations of one die,  \n",
    "\n",
    "&nbsp; a) Calculate theoretical mean of a dice (six-sided) (*)\n",
    "\n",
    "&nbsp; b) Now do simulations of\n",
    "\n",
    "- 10\n",
    "- 100\n",
    "- 1000\n",
    "- 10000\n",
    "- 100000\n",
    "- 1000000\n",
    "- 10000000\n",
    "\n",
    "number of dices and plot their means. (*)\n",
    "\n",
    "<details>\n",
    "\n",
    "<summary>Answer </summary>\n",
    "\n",
    "a)\n",
    "```\n",
    "3.5\n",
    "```\n",
    "\n",
    "b) \n",
    "\n",
    "<img src=\"https://raw.githubusercontent.com/everyloop/Python-AI23/c67e305ebb670c96fe2879d5949a1a62b0f6f92b/Assets/numpy_1b.png\" width = 300>\n",
    "\n",
    "</details>\n",
    "\n",
    "\n"
   ]
  },
  {
   "cell_type": "markdown",
   "metadata": {},
   "source": [
    "## My solutions:\n",
    "\n",
    "a)"
   ]
  },
  {
   "cell_type": "code",
   "execution_count": null,
   "metadata": {},
   "outputs": [],
   "source": [
    "import numpy as np\n",
    "\n",
    "dice_sides = np.arange(1, 7)\n",
    "mean_value = dice_sides.mean()\n",
    "print(f\"The theoretical mean of a (six-sided) dice is {mean_value}.\")"
   ]
  },
  {
   "cell_type": "markdown",
   "metadata": {},
   "source": [
    "b)"
   ]
  },
  {
   "cell_type": "code",
   "execution_count": null,
   "metadata": {},
   "outputs": [],
   "source": [
    "import matplotlib.pyplot as plt\n",
    "from matplotlib import ticker\n",
    "\n",
    "sim_quantities = [10, 100, 1_000, 10_000, 100_000, 1_000_000, 10_000_000]\n",
    "mean_values = []\n",
    "\n",
    "for sim_quantity in sim_quantities:\n",
    "    dice_rolls = np.random.randint(1, 7, sim_quantity)\n",
    "    mean_value = dice_rolls.mean()\n",
    "    mean_values.append(mean_value)\n",
    "    # print(f\"With {sim_quantity} simulated dice rolls, \"\n",
    "    #       f\"the average value was {mean_value:.2f}.\")\n",
    "    # print()\n",
    "\n",
    "# print(f\"{sim_quantities = }\")\n",
    "# print(f\"{mean_values = }\")\n",
    "\n",
    "plt.title(\"Mean of a six-sided dice\", fontweight=\"bold\", ha=\"right\")\n",
    "plt.xlabel(\"Number of dice rolls\", fontweight=\"bold\")\n",
    "plt.ylabel(\"Sample mean\", fontweight=\"bold\")\n",
    "# remove the bounding box frame\n",
    "plt.box(on=None)\n",
    "\n",
    "ax = plt.gca()\n",
    "ax.plot(sim_quantities, mean_values, marker=\"o\", linestyle=\"dashed\")\n",
    "\n",
    "ax.set_xscale(\"log\")\n",
    "ax.set_xticks(sim_quantities)\n",
    "# remove minor ticks\n",
    "ax.xaxis.set_minor_locator(ticker.NullLocator())\n",
    "# prevent scientific formatting (e.g. 10e+4) in X axis\n",
    "ax.xaxis.set_major_formatter(ticker.ScalarFormatter())\n",
    "ax.ticklabel_format(style='sci', scilimits=(-6, 9))\n",
    "\n",
    "ax.yaxis.set_major_formatter(ticker.FormatStrFormatter(\"%.1f\"))\n",
    "\n",
    "#plt.ylim(min(mean_values) - 0.1, max(mean_values) + 0.1)\n",
    "plt.show()\n"
   ]
  },
  {
   "cell_type": "markdown",
   "metadata": {},
   "source": [
    "--- \n",
    "## 2. Several dices (**)\n",
    "\n",
    "&nbsp; a) Make a sample space for the sum of two dices, i.e. all possible outcomes of these dices. (*)\n",
    "\n",
    "&nbsp; b) Count the number of each values in the sample space (*)\n",
    "\n",
    "&nbsp; c) Now calculate the frequency $f_i$ for each unique value. Also check that the sum of frequencies sums to 1, i.e. $\\sum_i f_i = 1$. (*)\n",
    "\n",
    "&nbsp; d) Make a bar chart of the sum of two dices, with frequencies in y and unique values in x. This is a probability distribution of the sum of your two dices. (*)\n",
    "\n",
    "&nbsp; e) Now make barplots in subplots of sum of dices for 1 dice, 2 dices, 3 dices and 4 dices. What is the pattern that you see? (**)\n",
    "\n",
    "<details>\n",
    "\n",
    "<summary>Hint</summary>\n",
    "\n",
    "a) \n",
    "\n",
    "Here are some potentially useful methods:\n",
    "\n",
    "```py\n",
    "\n",
    "np.meshgrid(), np.add.reduce(), np.unique()\n",
    "\n",
    "```\n",
    "\n",
    "c)\n",
    "\n",
    "Divide by the total number of outcomes\n",
    "\n",
    "\n",
    "</details>\n",
    "\n",
    "<details>\n",
    "\n",
    "<summary>Answer</summary>\n",
    "\n",
    "\n",
    "a) \n",
    "\n",
    "Sample space\n",
    "\n",
    "```\n",
    "[[ 2  3  4  5  6  7]\n",
    " [ 3  4  5  6  7  8]\n",
    " [ 4  5  6  7  8  9]\n",
    " [ 5  6  7  8  9 10]\n",
    " [ 6  7  8  9 10 11]\n",
    " [ 7  8  9 10 11 12]]\n",
    "```\n",
    "\n",
    "b) \n",
    "\n",
    "Unique values:\n",
    "```\n",
    "[ 2  3  4  5  6  7  8  9 10 11 12]\n",
    "```\n",
    "\n",
    "Count: \n",
    "```\n",
    "[1 2 3 4 5 6 5 4 3 2 1]\n",
    "```\n",
    "\n",
    "c)\n",
    "\n",
    "```\n",
    "[0.028 0.056 0.083 0.111 0.139 0.167 0.139 0.111 0.083 0.056 0.028]\n",
    "```\n",
    "\n",
    "d) \n",
    "\n",
    "\n",
    "<img src=\"https://raw.githubusercontent.com/everyloop/Python-AI23/c67e305ebb670c96fe2879d5949a1a62b0f6f92b/Assets/numpy2d.png\" width = 300>\n",
    "\n",
    "\n",
    "e) \n",
    "\n",
    "<img src=\"https://raw.githubusercontent.com/everyloop/Python-AI23/c67e305ebb670c96fe2879d5949a1a62b0f6f92b/Assets/numpy2e.png\" width = 500>\n",
    "\n",
    "\n",
    "We see that when we sum several uniformly distributed random variables we will approach the normal distribution. This is called the central limit theorem, which we will come back to in the statistics course.\n",
    "\n",
    "</details>"
   ]
  },
  {
   "cell_type": "markdown",
   "metadata": {},
   "source": [
    "## My solutions:\n",
    "\n",
    "a)"
   ]
  },
  {
   "cell_type": "code",
   "execution_count": 38,
   "metadata": {},
   "outputs": [
    {
     "name": "stdout",
     "output_type": "stream",
     "text": [
      "Sample space: \n",
      "[[ 2  3  4  5  6  7]\n",
      " [ 3  4  5  6  7  8]\n",
      " [ 4  5  6  7  8  9]\n",
      " [ 5  6  7  8  9 10]\n",
      " [ 6  7  8  9 10 11]\n",
      " [ 7  8  9 10 11 12]]\n"
     ]
    }
   ],
   "source": [
    "import numpy as np\n",
    "\n",
    "dice_a_sides = np.arange(1, 7)\n",
    "dice_b_sides = np.arange(1, 7)\n",
    "# print(f\"{dice_a_sides = }\")\n",
    "# print(f\"{dice_b_sides = }\\n\")\n",
    "\n",
    "mesh_grids = np.meshgrid(dice_a_sides, dice_b_sides)\n",
    "# print(f\"{x_grid = }\")\n",
    "# print(f\"{y_grid = }\\n\")\n",
    "\n",
    "print(\"Sample space: \")\n",
    "#sum_grid = x_grid + y_grid\n",
    "sum_grid = np.add.reduce(mesh_grids)\n",
    "print(sum_grid)"
   ]
  },
  {
   "cell_type": "markdown",
   "metadata": {},
   "source": [
    "b)"
   ]
  },
  {
   "cell_type": "code",
   "execution_count": 16,
   "metadata": {},
   "outputs": [
    {
     "name": "stdout",
     "output_type": "stream",
     "text": [
      "Unique values:\n",
      "[ 2  3  4  5  6  7  8  9 10 11 12]\n",
      "\n",
      "Count:\n",
      "[1 2 3 4 5 6 5 4 3 2 1]\n"
     ]
    }
   ],
   "source": [
    "unique_values, count = np.unique(sum_grid, return_counts=True)\n",
    "print(\"Unique values:\")\n",
    "print(unique_values)\n",
    "\n",
    "print(\"\\nCount:\")\n",
    "print(count)"
   ]
  },
  {
   "cell_type": "markdown",
   "metadata": {},
   "source": [
    "c)"
   ]
  },
  {
   "cell_type": "code",
   "execution_count": 17,
   "metadata": {},
   "outputs": [
    {
     "name": "stdout",
     "output_type": "stream",
     "text": [
      "total_count = 36\n",
      "\n",
      "[0.028 0.056 0.083 0.111 0.139 0.167 0.139 0.111 0.083 0.056 0.028]\n",
      "\n",
      "frequencies.sum() = 1.0\n"
     ]
    }
   ],
   "source": [
    "total_count = count.sum()\n",
    "print(f\"{total_count = }\")\n",
    "print()\n",
    "\n",
    "frequencies = count / total_count\n",
    "rounded_frequencies = np.round(frequencies, decimals=3)\n",
    "print(rounded_frequencies)\n",
    "\n",
    "print(f\"\\n{frequencies.sum() = }\")\n",
    "\n",
    "freq_sum = frequencies.sum()\n",
    "if freq_sum != 1:\n",
    "    print(\"Something is wrong. The sum of the frequencies is not 1 \"\n",
    "          f\"but {freq_sum}\")"
   ]
  },
  {
   "cell_type": "markdown",
   "metadata": {},
   "source": [
    "d)"
   ]
  },
  {
   "cell_type": "code",
   "execution_count": 25,
   "metadata": {},
   "outputs": [
    {
     "data": {
      "image/png": "[encoded data removed]",
      "text/plain": [
       "<Figure size 640x480 with 1 Axes>"
      ]
     },
     "metadata": {},
     "output_type": "display_data"
    }
   ],
   "source": [
    "import matplotlib.pyplot as plt\n",
    "\n",
    "plt.title(\"Two dices probability distributions\", fontsize=18, fontweight=\"bold\")\n",
    "# remove the bounding box frame\n",
    "plt.box(on=None)\n",
    "plt.bar(unique_values, frequencies)\n",
    "# Remove tick lines in each axis\n",
    "ax = plt.gca()\n",
    "ax.xaxis.set_tick_params(length=0)\n",
    "ax.yaxis.set_tick_params(length=0)\n"
   ]
  },
  {
   "cell_type": "markdown",
   "metadata": {},
   "source": [
    "e)"
   ]
  },
  {
   "cell_type": "code",
   "execution_count": 79,
   "metadata": {},
   "outputs": [
    {
     "name": "stdout",
     "output_type": "stream",
     "text": [
      "\n",
      "\n",
      "\n",
      "\n"
     ]
    },
    {
     "data": {
      "image/png": "[encoded data removed]",
      "text/plain": [
       "<Figure size 1400x700 with 4 Axes>"
      ]
     },
     "metadata": {},
     "output_type": "display_data"
    }
   ],
   "source": [
    "dice_sides = np.arange(1, 7)\n",
    "distributions = []\n",
    "\n",
    "for dices in range(1, 5):\n",
    "    # print(f\"Working with {dices} dice(s):\")\n",
    "\n",
    "    # Crate an array of all possible dice combinations,\n",
    "    # each dice will add one dimension to the resulting array\n",
    "    mgrids = np.meshgrid(*[dice_sides] * dices)\n",
    "    # print(\"\\nmgrids = \")\n",
    "    # print(mgrids)\n",
    "\n",
    "    # Create an array of all possible values (sum of the dices' values),\n",
    "    # should have on dimension fewer than mgrids\n",
    "    summed_values = np.add.reduce(mgrids)\n",
    "    # print(\"\\summed_values = \")\n",
    "    # print(summed_values)\n",
    "\n",
    "    unique_values, val_count = np.unique(summed_values, return_counts=True)\n",
    "    # print(\"unique_values = \")\n",
    "    # print(unique_values)\n",
    "    # print(\"val_count = \")\n",
    "    # print(val_count)\n",
    "    total_val_count = val_count.sum()\n",
    "    frequencies = val_count / total_val_count\n",
    "    # print(\"frequencies = \")\n",
    "    # print(frequencies)\n",
    "\n",
    "    distribution = {\n",
    "        \"dices\": dices,\n",
    "        \"values\": unique_values,\n",
    "        \"value_frequencies\": frequencies,\n",
    "    }\n",
    "    distributions.append(distribution)\n",
    "    \n",
    "\n",
    "    # sum_grid = mgrids[0]\n",
    "    # if dices > 1:\n",
    "    #     for g in mgrids[1:]:\n",
    "    #         sum_grid = sum_grid + g\n",
    "\n",
    "    # print(\"\\nsum_grid = \")\n",
    "    # print(sum_grid)\n",
    "    \n",
    "    # values = np.sum(grids)\n",
    "    # print(\"\\nvalues = \")\n",
    "    # print(values)\n",
    "    \n",
    "    print()\n",
    "\n",
    "fig = plt.figure(figsize=(14, 7))\n",
    "ax = fig.subplots(2,2)\n",
    "fig.subplots_adjust(hspace=0.3, wspace=0.15)\n",
    "\n",
    "for distribution in distributions:\n",
    "    dices = distribution[\"dices\"]\n",
    "    unique_values = distribution[\"values\"]\n",
    "    frequencies = distribution[\"value_frequencies\"]\n",
    "\n",
    "    x = dices // 3\n",
    "    y = abs((dices % 2) - 1)\n",
    "    current_ax = ax[x, y]\n",
    "\n",
    "    title = f\"Probability distributions of sum of {dices} dice\"\n",
    "    title += \"s\" if dices > 1 else \"\"\n",
    "    current_ax.set_title(title)\n",
    "    current_ax.bar(unique_values, frequencies)\n",
    "\n",
    "    # remove frame:\n",
    "    spines = [\"top\", \"right\", \"bottom\", \"left\"]\n",
    "    for spine in spines:\n",
    "        current_ax.spines[spine].set_visible(False)\n",
    "    # remove ticks on each axis\n",
    "    current_ax.xaxis.set_tick_params(length=0)\n",
    "    current_ax.yaxis.set_tick_params(length=0)\n",
    "\n",
    "# ax[0, 0].set_title(\"Probability distributions of sum of 1 dice\")\n",
    "\n",
    "# ax[0, 1].set_title(\"Probability distributions of sum of 2 dices\")\n",
    "\n",
    "# ax[1, 0].set_title(\"Probability distributions of sum of 3 dices\")\n",
    "\n",
    "# ax[1, 1].set_title(\"Probability distributions of sum of 4 dices\")"
   ]
  },
  {
   "cell_type": "markdown",
   "metadata": {},
   "source": [
    "--- \n",
    "## 3. Monte Carlo simulation (**)\n",
    "\n",
    "This task has been done in earlier exercise, but now you should do this without any loops. Note that this has enormous performance gain compared to using loops. \n",
    "\n",
    "&nbsp; a) Simulate 500000 uniformly distributed points between -1 and 1, $X\\sim U(-1,1)$. Now calculate the Euclidean distances between each point and the origin (0,0), $d_i = \\sqrt{x_i^2 + y_i^2}$. For $d_i < 1$ plot the point with one color, and for $d_i > 1$ plot the point in another color, $i = \\{1,\\ldots, 500000\\}$.  (**)\n",
    "\n",
    "&nbsp; b) Calculate the fraction between number of inner points and number of outer points. What do you this will converge to when number of points reaches infinity? (**)\n",
    "\n",
    "\n",
    "<details>\n",
    "\n",
    "<summary>Hint</summary>\n",
    "\n",
    "a) \n",
    "\n",
    "Read about numpy random and see if there are some useful methods to use. Also read about \n",
    "\n",
    "```\n",
    "np.linalg.norm()\n",
    "```\n",
    "\n",
    "b)\n",
    "\n",
    "Think in terms of theoretical areas.\n",
    "\n",
    "</details>\n",
    "\n",
    "<details>\n",
    "\n",
    "<summary>Answer</summary>\n",
    "\n",
    "\n",
    "a) \n",
    "\n",
    "<img src=\"https://raw.githubusercontent.com/everyloop/Python-AI23/c67e305ebb670c96fe2879d5949a1a62b0f6f92b/Assets/MC_simulation_500k.png\" width = 300>\n",
    "\n",
    "\n",
    "b) \n",
    "\n",
    "0.784724\n",
    "\n",
    "No answer here, try to prove it theoretically. \n",
    "\n",
    "\n",
    "</details>"
   ]
  },
  {
   "cell_type": "markdown",
   "metadata": {},
   "source": [
    "---\n",
    "\n",
    "Kokchun Giang\n",
    "\n",
    "[LinkedIn][linkedIn_kokchun]\n",
    "\n",
    "[GitHub portfolio][github_portfolio]\n",
    "\n",
    "[linkedIn_kokchun]: https://www.linkedin.com/in/kokchungiang/\n",
    "[github_portfolio]: https://github.com/kokchun/Portfolio-Kokchun-Giang\n",
    "\n",
    "---"
   ]
  },
  {
   "cell_type": "markdown",
   "metadata": {},
   "source": [
    "## My solutions:\n",
    "\n",
    "a)"
   ]
  },
  {
   "cell_type": "code",
   "execution_count": 153,
   "metadata": {},
   "outputs": [
    {
     "data": {
      "text/plain": [
       "<matplotlib.collections.PathCollection at 0x1cadd2fb6d0>"
      ]
     },
     "execution_count": 153,
     "metadata": {},
     "output_type": "execute_result"
    },
    {
     "data": {
      "image/png": "[encoded data removed]",
      "text/plain": [
       "<Figure size 640x480 with 1 Axes>"
      ]
     },
     "metadata": {},
     "output_type": "display_data"
    }
   ],
   "source": [
    "POINTS_COUNT = 500_000\n",
    "\n",
    "plt.title(\"Simulation of 500 000 points\", loc=\"left\")\n",
    "\n",
    "# Set aspect ration to 1:1\n",
    "plt.gca().set_aspect(\"equal\")\n",
    "\n",
    "# Hide the black frame \n",
    "for edge in [\"top\", \"right\", \"bottom\", \"left\"]:\n",
    "    plt.gca().spines[edge].set_visible(False)\n",
    "\n",
    "# Set customer axis values\n",
    "axis_values = [-1.0, -0.5, 0.0, 0.5, 1.0]\n",
    "plt.xticks(axis_values)\n",
    "plt.yticks(axis_values)\n",
    "\n",
    "x_cords = np.random.uniform(-1, 1, size=POINTS_COUNT)\n",
    "y_cords = np.random.uniform(-1, 1, size=POINTS_COUNT)\n",
    "distances = np.sqrt(x_cords**2 + y_cords**2)\n",
    "\n",
    "# create boolean masks to filter points within/outside of range\n",
    "within_mask = distances < 1\n",
    "outside_mask = np.invert(within_mask)\n",
    "\n",
    "# scatter (blue) points within range\n",
    "x_cords_within = x_cords[within_mask]\n",
    "y_cords_within = y_cords[within_mask]\n",
    "plt.scatter(x_cords_within, y_cords_within, marker=\"o\", s=2)\n",
    "\n",
    "#scatter (orange) points outside of range\n",
    "x_cords_outside = x_cords[outside_mask]\n",
    "y_cords_outside = y_cords[outside_mask]\n",
    "plt.scatter(x_cords_outside, y_cords_outside, marker=\"o\", s=2)"
   ]
  },
  {
   "cell_type": "markdown",
   "metadata": {},
   "source": [
    "b)"
   ]
  },
  {
   "cell_type": "code",
   "execution_count": 151,
   "metadata": {},
   "outputs": [
    {
     "name": "stdout",
     "output_type": "stream",
     "text": [
      "3,926,941 (78.54%) of 5,000,000 points have a distance < 1 from the origin point.\n",
      "As the number of points reaches infinity, the fraction of points with a distance < 1 should be around 0.785398.\n",
      "The simulation above deviated from that number by 0.001269%\n"
     ]
    }
   ],
   "source": [
    "import math\n",
    "\n",
    "points_within = x_cords_within.size\n",
    "fraction_within = points_within / POINTS_COUNT\n",
    "print(f\"{points_within:,} ({fraction_within:.2%}) of {POINTS_COUNT:,} points \" +\n",
    "      \"have a distance < 1 from the origin point.\")\n",
    "\n",
    "radius = 1\n",
    "circle_area = math.pi*radius**2\n",
    "square_area = (2*radius)**2\n",
    "area_fraction = circle_area / square_area\n",
    "print(\"As the number of points reaches infinity, the fraction of points with \" +\n",
    "      f\"a distance < 1 should be around {area_fraction:6f}.\")\n",
    "\n",
    "deviation = abs(fraction_within - area_fraction) / area_fraction\n",
    "print(f\"The simulation above deviated from that number by {deviation:%}\")"
   ]
  }
 ],
 "metadata": {
  "kernelspec": {
   "display_name": "Python 3.10.1 64-bit",
   "language": "python",
   "name": "python3"
  },
  "language_info": {
   "codemirror_mode": {
    "name": "ipython",
    "version": 3
   },
   "file_extension": ".py",
   "mimetype": "text/x-python",
   "name": "python",
   "nbconvert_exporter": "python",
   "pygments_lexer": "ipython3",
   "version": "3.11.4"
  },
  "orig_nbformat": 4,
  "vscode": {
   "interpreter": {
    "hash": "7e1998ff7f8aa20ada591c520b972326324e5ea05489af9e422744c7c09f6dad"
   }
  }
 },
 "nbformat": 4,
 "nbformat_minor": 2
}
